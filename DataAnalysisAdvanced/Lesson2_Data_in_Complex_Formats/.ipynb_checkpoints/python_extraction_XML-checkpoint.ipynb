{
 "cells": [
  {
   "cell_type": "code",
   "execution_count": 2,
   "metadata": {},
   "outputs": [
    {
     "name": "stdout",
     "output_type": "stream",
     "text": [
      "\n",
      "Children of root:\n",
      "ui\n",
      "ji\n",
      "fm\n",
      "bdy\n",
      "bm\n"
     ]
    }
   ],
   "source": [
    "import xml.etree.ElementTree as ET\n",
    "import pprint\n",
    "\n",
    "tree = ET.parse(\"F:/develop/Python/DataAnalysisAdvanced/data/Lesson_2_Data_in_More_Complex_Formats/07-Extracting_Data/exampleResearchArticle.xml\")\n",
    "root = tree.getroot()\n",
    "\n",
    "\n",
    "print(\"\\nChildren of root:\")\n",
    "for child in root:\n",
    "    print(child.tag)\n"
   ]
  },
  {
   "cell_type": "code",
   "execution_count": 7,
   "metadata": {},
   "outputs": [
    {
     "name": "stdout",
     "output_type": "stream",
     "text": [
      "\n",
      "Title:\n",
      " Standardization of the functional syndesmosis widening by dynamic U.S examination\n",
      "\n",
      "Author email addresses:\n",
      "omer@extremegate.com\n",
      "mcarmont@hotmail.com\n",
      "laver17@gmail.com\n",
      "nyska@internet-zahav.net\n",
      "kammarh@gmail.com\n",
      "gideon.mann.md@gmail.com\n",
      "barns.nz@gmail.com\n",
      "eukots@gmail.com\n"
     ]
    }
   ],
   "source": [
    "import xml.etree.ElementTree as ET\n",
    "import pprint\n",
    "\n",
    "tree = ET.parse(\"F:/develop/Python/DataAnalysisAdvanced/data/Lesson_2_Data_in_More_Complex_Formats/07-Extracting_Data/exampleResearchArticle.xml\")\n",
    "root = tree.getroot()\n",
    "\n",
    "title = root.find('./fm/bibl/title')\n",
    "title_text = \"\"\n",
    "for p in title:\n",
    "    title_text += p.text\n",
    "    \n",
    "print(\"\\nTitle:\\n\", title_text)\n",
    "\n",
    "print(\"\\nAuthor email addresses:\")\n",
    "for a in root.findall('./fm/bibl/aug/au'):\n",
    "    email = a.find('email')\n",
    "    if email is not None:\n",
    "        print(email.text)"
   ]
  },
  {
   "cell_type": "markdown",
   "metadata": {},
   "source": [
    "### Using BeautifulSoup to extract html data"
   ]
  },
  {
   "cell_type": "code",
   "execution_count": 1,
   "metadata": {},
   "outputs": [
    {
     "data": {
      "text/plain": [
       "453196"
      ]
     },
     "execution_count": 1,
     "metadata": {},
     "output_type": "execute_result"
    }
   ],
   "source": [
    "import requests\n",
    "from bs4 import BeautifulSoup\n",
    "\n",
    "s = requests.Session()\n",
    "\n",
    "r = s.get(\"http://www.transtats.bts.gov/Data_Elements.aspx?Data=2\")\n",
    "soup = BeautifulSoup(r.text)\n",
    "viewstate_element = soup.find(id=\"__VIEWSTATE\")\n",
    "viewstate = viewstate_element[\"value\"]\n",
    "eventvalidation_element = soup.find(id=\"__EVENTVALIDATION\")\n",
    "eventvalidation = eventvalidation_element[\"value\"]\n",
    "\n",
    "r = s.post(\"http://www.transtats.bts.gov/Data_Elements.aspx?Data=2\",\n",
    "          data = {'AirportList': \"BOS\",\n",
    "                  'CarrierList': \"VX\",\n",
    "                  'Submit': \"Submit\",\n",
    "                  '__EVENTTARGET': \"\",\n",
    "                  '__EVENTARGUMENT': \"\",\n",
    "                  '__EVENTVALIDATION': eventvalidation_element,\n",
    "                  '__VIEWSTATE': viewstate}      \n",
    "          )\n",
    "\n",
    "f = open(\"virgin_and_logan_airport.html\", \"w\")\n",
    "f.write(r.text)"
   ]
  },
  {
   "cell_type": "markdown",
   "metadata": {},
   "source": [
    "### Extracting entry by BeautifulSoup"
   ]
  },
  {
   "cell_type": "code",
   "execution_count": 4,
   "metadata": {},
   "outputs": [],
   "source": [
    "from bs4 import BeautifulSoup\n",
    "\n",
    "def option(soup, id):\n",
    "    option_values = []\n",
    "    carrier_list = soup.find(id=id)\n",
    "    for option in carrier_list.find_all('option'):\n",
    "        option_values.append(option['value'])\n",
    "    return option_values\n",
    "\n",
    "def print_list(label, codes):\n",
    "    print(\"\\n%s:\" % label)\n",
    "    for c in codes:\n",
    "        print(c)\n",
    "\n",
    "def main():\n",
    "#     soup = BeautifulSoup(open(\"virgin_and_logan_airport.html\"))\n",
    "    soup = BeautifulSoup(open(\"F:\\develop\\Python\\DataAnalysisAdvanced\\Lesson3_Data_in_Complex_Formats\\virgin_and_logan_airport.html\"))\n",
    "    codes = option(soup, 'CarrierList')\n",
    "    print_list('Carriers', codes)\n",
    "    \n",
    "    codes = option(soup, 'AirportList')\n",
    "    print_list('Airports', codes)\n",
    "    "
   ]
  },
  {
   "cell_type": "code",
   "execution_count": null,
   "metadata": {},
   "outputs": [],
   "source": []
  }
 ],
 "metadata": {
  "kernelspec": {
   "display_name": "Python 3",
   "language": "python",
   "name": "python3"
  },
  "language_info": {
   "codemirror_mode": {
    "name": "ipython",
    "version": 3
   },
   "file_extension": ".py",
   "mimetype": "text/x-python",
   "name": "python",
   "nbconvert_exporter": "python",
   "pygments_lexer": "ipython3",
   "version": "3.6.5"
  }
 },
 "nbformat": 4,
 "nbformat_minor": 2
}
