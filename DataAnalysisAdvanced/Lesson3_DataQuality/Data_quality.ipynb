{
 "cells": [
  {
   "cell_type": "code",
   "execution_count": null,
   "metadata": {},
   "outputs": [],
   "source": [
    "import xml.etree.cElementTree as ET\n",
    "from collections import defaultdict\n",
    "import re\n",
    "\n",
    "osm_file = open(\"chicago_abbrev.osm\", \"r\")\n",
    "\n",
    "street_type_re = re.compile(r'\\S+\\.?$', re.IGNORECASE)\n",
    "street_types = defaultdict(int)\n",
    "\n",
    "def audit_street_type(street_types, stree_name):\n",
    "    m = street_type_re.search(stree_name)\n",
    "    if m:\n",
    "        street_type = m.group()\n",
    "        street_types[street_type] += 1\n",
    "        \n",
    "def print_sorted_dict(d):\n",
    "    keys = d.keys()\n",
    "    keys = sorted(keys, key=lambda s: s.lower())\n",
    "    for k in keys:\n",
    "        v = d[k]\n",
    "        print(\"%s: %d\" % (k, v))\n",
    "        \n",
    "        \n",
    "def is_street_name(elem):\n",
    "    return (elem.tag == \"tag\") and (elem.attrib['k'] == \"addr:street\")\n",
    "\n",
    "    \n",
    "def audit():\n",
    "    for event, elem in ET.iterparse(osm_file):\n",
    "        if is_street_name(elem):\n",
    "            audit_street_type(street_types, elem.attrib['v'])\n",
    "    print_sorted_dict(street_types)\n",
    "    \n",
    "if __name__ == '__main__':\n",
    "    audit()"
   ]
  },
  {
   "cell_type": "markdown",
   "metadata": {},
   "source": [
    "### Uniformity"
   ]
  },
  {
   "cell_type": "code",
   "execution_count": 2,
   "metadata": {},
   "outputs": [
    {
     "name": "stdout",
     "output_type": "stream",
     "text": [
      "num cities: 36\n",
      "nulls: 0\n",
      "empties: 0\n",
      "arrays: 0\n"
     ]
    }
   ],
   "source": [
    "import csv\n",
    "import pprint\n",
    "\n",
    "fieldname = \"wgs84_pos#lat\"\n",
    "minval = -90\n",
    "maxval = 90\n",
    "\n",
    "def skip_lines(input_file, skip):\n",
    "    for i in range(0, skip):\n",
    "        next(input_file)\n",
    "    \n",
    "def is_number(s):\n",
    "    try:\n",
    "        float(s)\n",
    "        return True\n",
    "    except ValueError:\n",
    "        return False\n",
    "    \n",
    "def is_array(s):\n",
    "    if isinstance(s, list):\n",
    "        return True\n",
    "    return False\n",
    "        \n",
    "    \n",
    "def audit_float_field(v, counts):\n",
    "    v = v.strip()\n",
    "    if v == \"NULL\":\n",
    "        counts['nulls'] += 1\n",
    "    elif v == \"\":\n",
    "        counts['empties'] += 1\n",
    "    elif is_array(v):\n",
    "        counts['arrays'] += 1\n",
    "    elif not is_number(v):\n",
    "        print(\"Found non number:\", v)\n",
    "    else:\n",
    "        v = float(v)\n",
    "        if not ((minval < v) and (v < maxval)):\n",
    "            print(\"Found out of range value:\", v)\n",
    "            \n",
    "if __name__ == '__main__':\n",
    "    input_file = csv.DictReader(open(\"cities.csv\"))\n",
    "    skip_lines(input_file, 3)\n",
    "    counts = {\"nulls\": 0, \"empties\": 0, \"arrays\": 0}\n",
    "    nrows = 0\n",
    "    for row in input_file:\n",
    "        audit_float_field(row[fieldname], counts)\n",
    "        nrows += 1\n",
    "    \n",
    "    print(\"num cities:\", nrows)\n",
    "    print(\"nulls:\", counts['nulls'])\n",
    "    print(\"empties:\", counts['empties'])\n",
    "    print(\"arrays:\", counts['arrays'])\n",
    "    \n",
    "    "
   ]
  },
  {
   "cell_type": "code",
   "execution_count": null,
   "metadata": {},
   "outputs": [],
   "source": []
  }
 ],
 "metadata": {
  "kernelspec": {
   "display_name": "Python 3",
   "language": "python",
   "name": "python3"
  },
  "language_info": {
   "codemirror_mode": {
    "name": "ipython",
    "version": 3
   },
   "file_extension": ".py",
   "mimetype": "text/x-python",
   "name": "python",
   "nbconvert_exporter": "python",
   "pygments_lexer": "ipython3",
   "version": "3.6.2"
  }
 },
 "nbformat": 4,
 "nbformat_minor": 2
}
