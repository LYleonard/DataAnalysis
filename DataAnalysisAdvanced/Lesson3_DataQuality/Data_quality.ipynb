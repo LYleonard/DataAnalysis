{
 "cells": [
  {
   "cell_type": "code",
   "execution_count": 9,
   "metadata": {},
   "outputs": [
    {
     "ename": "FileNotFoundError",
     "evalue": "[Errno 2] No such file or directory: 'chicago_abbrev.osm'",
     "output_type": "error",
     "traceback": [
      "\u001b[1;31m---------------------------------------------------------------------------\u001b[0m",
      "\u001b[1;31mFileNotFoundError\u001b[0m                         Traceback (most recent call last)",
      "\u001b[1;32m<ipython-input-9-a2f6470036e9>\u001b[0m in \u001b[0;36m<module>\u001b[1;34m()\u001b[0m\n\u001b[0;32m      3\u001b[0m \u001b[1;32mimport\u001b[0m \u001b[0mre\u001b[0m\u001b[1;33m\u001b[0m\u001b[0m\n\u001b[0;32m      4\u001b[0m \u001b[1;33m\u001b[0m\u001b[0m\n\u001b[1;32m----> 5\u001b[1;33m \u001b[0mosm_file\u001b[0m \u001b[1;33m=\u001b[0m \u001b[0mopen\u001b[0m\u001b[1;33m(\u001b[0m\u001b[1;34m\"chicago_abbrev.osm\"\u001b[0m\u001b[1;33m,\u001b[0m \u001b[1;34m\"r\"\u001b[0m\u001b[1;33m)\u001b[0m\u001b[1;33m\u001b[0m\u001b[0m\n\u001b[0m\u001b[0;32m      6\u001b[0m \u001b[1;33m\u001b[0m\u001b[0m\n\u001b[0;32m      7\u001b[0m \u001b[0mstreet_type_re\u001b[0m \u001b[1;33m=\u001b[0m \u001b[0mre\u001b[0m\u001b[1;33m.\u001b[0m\u001b[0mcompile\u001b[0m\u001b[1;33m(\u001b[0m\u001b[1;34mr'\\S+\\.?$'\u001b[0m\u001b[1;33m,\u001b[0m \u001b[0mre\u001b[0m\u001b[1;33m.\u001b[0m\u001b[0mIGNORECASE\u001b[0m\u001b[1;33m)\u001b[0m\u001b[1;33m\u001b[0m\u001b[0m\n",
      "\u001b[1;31mFileNotFoundError\u001b[0m: [Errno 2] No such file or directory: 'chicago_abbrev.osm'"
     ]
    }
   ],
   "source": [
    "import xml.etree.cElementTree as ET\n",
    "from collections import defaultdict\n",
    "import re\n",
    "\n",
    "osm_file = open(\"chicago_abbrev.osm\", \"r\")\n",
    "\n",
    "street_type_re = re.compile(r'\\S+\\.?$', re.IGNORECASE)\n",
    "street_types = defaultdict(int)\n",
    "\n",
    "def audit_street_type(street_types, stree_name):\n",
    "    m = street_type_re.search(stree_name)\n",
    "    if m:\n",
    "        street_type = m.group()\n",
    "        street_types[street_type] += 1\n",
    "        \n",
    "def print_sorted_dict(d):\n",
    "    keys = d.keys()\n",
    "    keys = sorted(keys, key=lambda s: s.lower())\n",
    "    for k in keys:\n",
    "        v = d[k]\n",
    "        print(\"%s: %d\" % (k, v))\n",
    "        \n",
    "        \n",
    "def is_street_name(elem):\n",
    "    return (elem.tag == \"tag\") and (elem.attrib['k'] == \"addr:street\")\n",
    "\n",
    "    \n",
    "def audit():\n",
    "    for event, elem in ET.iterparse(osm_file):\n",
    "        if is_street_name(elem):\n",
    "            audit_street_type(street_types, elem.attrib['v'])\n",
    "    print_sorted_dict(street_types)\n",
    "    \n",
    "if __name__ == '__main__':\n",
    "    audit()"
   ]
  },
  {
   "cell_type": "markdown",
   "metadata": {},
   "source": [
    "### Uniformity"
   ]
  },
  {
   "cell_type": "code",
   "execution_count": 15,
   "metadata": {},
   "outputs": [
    {
     "name": "stdout",
     "output_type": "stream",
     "text": [
      "num cities: 39\n",
      "nulls: 0\n",
      "empties: 0\n",
      "arrays: 0\n"
     ]
    }
   ],
   "source": [
    "import csv\n",
    "import pprint\n",
    "\n",
    "fieldname = \"wgs84_pos#lat\"\n",
    "minval = -90\n",
    "maxval = 90\n",
    "\n",
    "def skip_lines(input_file, skip):\n",
    "    for i in range(0, skip):\n",
    "        next(input_file)\n",
    "    \n",
    "def is_number(s):\n",
    "    try:\n",
    "        float(s)\n",
    "        return True\n",
    "    except ValueError:\n",
    "        return False\n",
    "    \n",
    "def is_array(s):\n",
    "    if isinstance(s, list):\n",
    "        return True\n",
    "    return False\n",
    "        \n",
    "    \n",
    "def audit_float_field(v, counts):\n",
    "    v = v.strip()\n",
    "    if v == \"NULL\":\n",
    "        counts['nulls'] += 1\n",
    "    elif v == \"\":\n",
    "        counts['empties'] += 1\n",
    "    elif is_array(v):\n",
    "        counts['arrays'] += 1\n",
    "    elif not is_number(v):\n",
    "        print(\"Found non number:\", v)\n",
    "    else:\n",
    "        v = float(v)\n",
    "        if not ((minval < v) and (v < maxval)):\n",
    "            print(\"Found out of range value:\", v)\n",
    "            \n",
    "if __name__ == '__main__':\n",
    "    input_file = csv.DictReader(open(\"cities.csv\"))\n",
    "    skip_lines(input_file, 3)\n",
    "    counts = {\"nulls\": 0, \"empties\": 0, \"arrays\": 0}\n",
    "    nrows = 0\n",
    "    for row in input_file:\n",
    "        audit_float_field(row[fieldname], counts)\n",
    "        nrows += 1\n",
    "    \n",
    "    print(\"num cities:\", nrows)\n",
    "    print(\"nulls:\", counts['nulls'])\n",
    "    print(\"empties:\", counts['empties'])\n",
    "    print(\"arrays:\", counts['arrays'])\n",
    "    \n",
    "    "
   ]
  },
  {
   "cell_type": "code",
   "execution_count": null,
   "metadata": {},
   "outputs": [],
   "source": []
  }
 ],
 "metadata": {
  "kernelspec": {
   "display_name": "Python 3",
   "language": "python",
   "name": "python3"
  },
  "language_info": {
   "codemirror_mode": {
    "name": "ipython",
    "version": 3
   },
   "file_extension": ".py",
   "mimetype": "text/x-python",
   "name": "python",
   "nbconvert_exporter": "python",
   "pygments_lexer": "ipython3",
   "version": "3.6.2"
  }
 },
 "nbformat": 4,
 "nbformat_minor": 2
}
