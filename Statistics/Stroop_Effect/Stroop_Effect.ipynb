{
 "cells": [
  {
   "cell_type": "markdown",
   "metadata": {},
   "source": [
    "# 统计学：决策的科学项目说明\n",
    "\n",
    "&emsp;&emsp;说明：[点此](https://docs.google.com/document/d/1-OkpZLjG_kX9J6LIQ5IltsqMzVWjh36QpnP2RYpVdPU/pub?embedded=True)查看此文档的英文版本。\n",
    "\n",
    "## 背景信息\n",
    "&emsp;&emsp;在一个 Stroop （斯特鲁普）任务中，参与者得到了一列文字，每个文字都用一种油墨颜色展示。参与者的任务是将文字的打印颜色大声说出来。这项任务有两个条件：一致文字条件，和不一致文字条件。在一致文字条件中，显示的文字是与它们的打印颜色匹配的颜色词，如“<font color=#FF0000>红色</font>”、“<font color=#0000FF>蓝色</font>”。在不一致文字条件中，显示的文字是与它们的打印颜色不匹配的颜色词，如“<font color=#008000>紫色</font>”、“<font color=#8B0A50>橙色</font>”。在每个情况中，我们将计量说出同等大小的列表中的墨色名称的时间。每位参与者必须全部完成并记录每种条件下使用的时间。\n",
    "\n",
    "\n",
    "## 调查问题\n",
    "&emsp;&emsp;作为一般说明，请确保记录你在创建项目时使用或参考的任何资源。作为项目提交的一部分，你将需要报告信息来源。\n"
   ]
  },
  {
   "cell_type": "markdown",
   "metadata": {},
   "source": [
    "---\n",
    "&emsp;&emsp;**1.** 我们的自变量是什么？因变量是什么？\n",
    "\n",
    "**答：a) 自变量是不同项目参与者。b) 因变量为参与者完成任务使用的时间。\n",
    "<或者a) 自变量是文字条件。b) 因变量为参与者完成任务使用的平均时间。>**\n",
    "\n",
    "---\n",
    "&emsp;&emsp;**2.** 此任务的适当假设集是什么？你需要以文字和数学符号方式对假设集中的零假设和对立假设加以说明，并对数学符号进行定义。你想执行什么类型的统计检验？为你的选择提供正当理由（比如，为何该实验满足你所选统计检验的前置条件）。\n",
    "\n",
    "&emsp;&emsp;现在轮到你自行尝试 Stroop 任务了。前往此链接，其中包含一个基于 Java 的小程序，专门用于执行 Stroop 任务。记录你收到的任务时间（你无需将时间提交到网站）。现在下载此数据集，其中包含一些任务参与者的结果。数据集的每行包含一名参与者的表现，第一个数字代表他们的一致任务结果，第二个数字代表不一致任务结果。\n",
    "\n",
    "**答：**\n",
    "\n",
    "&emsp;&emsp;**a)** 此任务是检验Stroop效应，为了说明Stroop效应问题，所以该任务假设集合为${I, II, III}$，其中$I, II, III$如下\n",
    "$$I \\ \\ \\ \\ H_0:{\\mu}_1 < {\\mu}_2 \\ \\ \\ \\ vs\\ \\ \\ \\ H_1:\\mu_1 \\ge \\mu_2\\tag{1}$$\n",
    "$$I \\ \\ \\ \\ H_0:{\\mu}_1 > {\\mu}_2 \\ \\ \\ \\ vs\\ \\ \\ \\ H_1:\\mu_1 \\le \\mu_2\\tag{2}$$\n",
    "$$I \\ \\ \\ \\ H_0:{\\mu}_1 = {\\mu}_2 \\ \\ \\ \\ vs\\ \\ \\ \\ H_1:\\mu_1 \\neq \\mu_2\\tag{3}$$\n",
    "\n",
    "其中（以假设检验问题$I$为例），命题$ H_0:{\\mu}_1 < {\\mu}_2$为零假设，$H_1:\\mu_1 \\ge \\mu_2$为对立假设， $\\mu_1$为一致文字条件下所有参与者完成任务使用时间的均值， $\\mu_2$为不一致文字条件下所有参与者完成任务使用时间的均值。不妨采用假设检验问题$I$，验证Stroop效应问题。\n",
    "\n",
    "&emsp;&emsp;**b)** 该问题是成对数据的均值假设检验问题，因此我采用$t$检验方法（假设两样本的方差相等）来讨论该问题。问题为检验 $\\mu_1,\\mu_2$存在显著差异，不妨设显著水平$\\alpha=0.05$。"
   ]
  },
  {
   "cell_type": "markdown",
   "metadata": {},
   "source": [
    "&emsp;&emsp;**3.** 报告关于此数据集的一些描述性统计。包含至少一个集中趋势测量和至少一个变异测量。"
   ]
  },
  {
   "cell_type": "code",
   "execution_count": 1,
   "metadata": {},
   "outputs": [
    {
     "data": {
      "text/html": [
       "<div>\n",
       "<style scoped>\n",
       "    .dataframe tbody tr th:only-of-type {\n",
       "        vertical-align: middle;\n",
       "    }\n",
       "\n",
       "    .dataframe tbody tr th {\n",
       "        vertical-align: top;\n",
       "    }\n",
       "\n",
       "    .dataframe thead th {\n",
       "        text-align: right;\n",
       "    }\n",
       "</style>\n",
       "<table border=\"1\" class=\"dataframe\">\n",
       "  <thead>\n",
       "    <tr style=\"text-align: right;\">\n",
       "      <th></th>\n",
       "      <th>Congruent</th>\n",
       "      <th>Incongruent</th>\n",
       "    </tr>\n",
       "  </thead>\n",
       "  <tbody>\n",
       "    <tr>\n",
       "      <th>0</th>\n",
       "      <td>12.079</td>\n",
       "      <td>19.278</td>\n",
       "    </tr>\n",
       "    <tr>\n",
       "      <th>1</th>\n",
       "      <td>16.791</td>\n",
       "      <td>18.741</td>\n",
       "    </tr>\n",
       "    <tr>\n",
       "      <th>2</th>\n",
       "      <td>9.564</td>\n",
       "      <td>21.214</td>\n",
       "    </tr>\n",
       "    <tr>\n",
       "      <th>3</th>\n",
       "      <td>8.630</td>\n",
       "      <td>15.687</td>\n",
       "    </tr>\n",
       "    <tr>\n",
       "      <th>4</th>\n",
       "      <td>14.669</td>\n",
       "      <td>22.803</td>\n",
       "    </tr>\n",
       "  </tbody>\n",
       "</table>\n",
       "</div>"
      ],
      "text/plain": [
       "   Congruent  Incongruent\n",
       "0     12.079       19.278\n",
       "1     16.791       18.741\n",
       "2      9.564       21.214\n",
       "3      8.630       15.687\n",
       "4     14.669       22.803"
      ]
     },
     "metadata": {},
     "output_type": "display_data"
    }
   ],
   "source": [
    "import pandas as pd\n",
    "import matplotlib.pyplot as plt\n",
    "from IPython.display import display\n",
    "\n",
    "data = pd.read_csv(\"stroopdata.csv\")\n",
    "display(data.head())"
   ]
  },
  {
   "cell_type": "code",
   "execution_count": 5,
   "metadata": {},
   "outputs": [
    {
     "data": {
      "image/png": "[encoded data removed]",
      "text/plain": [
       "<Figure size 432x288 with 1 Axes>"
      ]
     },
     "metadata": {
      "needs_background": "light"
     },
     "output_type": "display_data"
    }
   ],
   "source": [
    "data.plot.bar()\n",
    "\n",
    "plt.ylabel(\"time\")\n",
    "plt.show()"
   ]
  },
  {
   "cell_type": "code",
   "execution_count": 8,
   "metadata": {
    "scrolled": true
   },
   "outputs": [
    {
     "data": {
      "text/plain": [
       "count    24.000000\n",
       "mean     14.051125\n",
       "std       3.559358\n",
       "min       8.630000\n",
       "25%      11.895250\n",
       "50%      14.356500\n",
       "75%      16.200750\n",
       "max      22.328000\n",
       "Name: Congruent, dtype: float64"
      ]
     },
     "metadata": {},
     "output_type": "display_data"
    },
    {
     "data": {
      "text/plain": [
       "count    24.000000\n",
       "mean     22.015917\n",
       "std       4.797057\n",
       "min      15.687000\n",
       "25%      18.716750\n",
       "50%      21.017500\n",
       "75%      24.051500\n",
       "max      35.255000\n",
       "Name: Incongruent, dtype: float64"
      ]
     },
     "metadata": {},
     "output_type": "display_data"
    }
   ],
   "source": [
    "congruent_describe = data['Congruent'].describe()\n",
    "display(congruent_describe)\n",
    "\n",
    "incongruent_mean = data['Incongruent'].describe()\n",
    "display(incongruent_mean)"
   ]
  },
  {
   "cell_type": "markdown",
   "metadata": {},
   "source": [
    "&emsp;&emsp;**4.** 提供显示样本数据分布的一个或两个可视化。用一两句话说明你从图中观察到的结果。"
   ]
  },
  {
   "cell_type": "markdown",
   "metadata": {},
   "source": [
    "**答：**\n",
    "\n",
    "&emsp;&emsp;从上图一致性文字条件和非一致性文字条件下参与者的使用时间柱状图可知，非一致性文字条件下参与者使用的时间明显更多。"
   ]
  },
  {
   "cell_type": "markdown",
   "metadata": {},
   "source": [
    "&emsp;&emsp;**5.** 现在，执行统计测试并报告你的结果。你的置信水平和关键统计值是多少？你是否成功拒绝零假设？对试验任务得出一个结论。结果是否与你的期望一致？"
   ]
  },
  {
   "cell_type": "markdown",
   "metadata": {},
   "source": [
    "**解答：** 根据3中计算出的方差，两条件下的方差相差不大，可认为近似相等，因此可采用两正态总体均值的t检验。对上述假设检验问题I进行检验，步骤如下：\n",
    "\n",
    "&emsp;&emsp;**1)** 构造统计量\n",
    "$$t = \\frac {(\\overline{x}-\\overline{y})}{s_w\\sqrt{\\frac1m+\\frac1n}}=\\frac {(\\overline{x}-\\overline{y})}{s_w\\sqrt{\\frac2n}}$$\n",
    "（这里样本量$m=n=24$），$\\overline x$为一致性文字条件下时间的均值，$\\overline y$为非一致性文字条件下时间的均值。\n",
    "$$s_w = \\frac1{m+n-2}\\left[ \\sum_{i=1}^{m}(x_i-\\overline x)^2 + \\sum_{i=1}^{n}(y_i-\\overline y)^2 \\right]$$\n",
    "\n",
    "拒绝域为$t≥t_{1-\\alpha} (m+n-2)$\n",
    "\n",
    "&emsp;&emsp;**2)** 根据数据计算得，$\\overline x$=14.051125，$\\overline y$=22.015917, $s_w$=17.84039305\n",
    "t=-5.357365374.\n",
    "若显著水平 ，$t_{1-\\alpha}=t_{0.975}(46)$)= 2.021，$t=-5.357365374 \\lt 2.021$, 因此不应拒绝原假设。即是原假设$\\mu_1 \\lt \\mu_2$在显著水平$\\alpha=0.05$上成立。与期望的一致。\n"
   ]
  },
  {
   "cell_type": "markdown",
   "metadata": {},
   "source": [
    "&emsp;&emsp;**6.** 可选：你觉得导致所观察到的效应的原因是什么？你是否能想到会取得类似效应的替代或类似任务？进行一些调查研究将有助于你思考这两个问题！"
   ]
  },
  {
   "cell_type": "markdown",
   "metadata": {},
   "source": [
    "**解答：**\n",
    "\n",
    "&emsp;&emsp;**a)** 这可能和人的专注度、阅读反应能力和颜色的识别能力的不同、受试者的年龄等因素影响的结果。\n",
    "\n",
    "&emsp;&emsp;**b)** 替代任务如：实验组要求被试者看见太阳的图形时说“夜晚”,看见月亮的图形时说“白天”;控制组要求被试看见一个抽象的图形时说“白天”,看见另一个抽象图形时说“夜晚”。\n"
   ]
  },
  {
   "cell_type": "code",
   "execution_count": null,
   "metadata": {},
   "outputs": [],
   "source": []
  }
 ],
 "metadata": {
  "kernelspec": {
   "display_name": "Python 3",
   "language": "python",
   "name": "python3"
  },
  "language_info": {
   "codemirror_mode": {
    "name": "ipython",
    "version": 3
   },
   "file_extension": ".py",
   "mimetype": "text/x-python",
   "name": "python",
   "nbconvert_exporter": "python",
   "pygments_lexer": "ipython3",
   "version": "3.6.2"
  }
 },
 "nbformat": 4,
 "nbformat_minor": 2
}
