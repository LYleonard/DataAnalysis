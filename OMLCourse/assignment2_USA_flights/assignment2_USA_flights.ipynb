{
 "cells": [
  {
   "cell_type": "markdown",
   "metadata": {},
   "source": [
    "## [mlcourse.ai](mlcourse.ai) – Open Machine Learning Course \n",
    "\n",
    "Author: [Yury Kashnitskiy](https://yorko.github.io). \n",
    "Translated and edited by [Maxim Keremet](https://www.linkedin.com/in/maximkeremet/), [Artem Trunov](https://www.linkedin.com/in/datamove/), and [Aditya Soni](https://www.linkedin.com/in/aditya-soni-0505a9124/). This material is subject to the terms and conditions of the [Creative Commons CC BY-NC-SA 4.0](https://creativecommons.org/licenses/by-nc-sa/4.0/) license. Free use is permitted for any non-commercial purpose."
   ]
  },
  {
   "cell_type": "markdown",
   "metadata": {},
   "source": [
    "# <center>Assignment #2. Fall 2018 <br> Exploratory Data Analysis (EDA) of US flights <br> (using Pandas, Matplotlib & Seaborn)\n",
    "\n",
    "<img src='../../img/plane_sunset.png' width=50%>\n",
    "\n",
    "Prior to working on the assignment, you'd better check out the corresponding course material:\n",
    " - [Visualization: from Simple Distributions to Dimensionality Reduction](https://mlcourse.ai/notebooks/blob/master/jupyter_english/topic02_visual_data_analysis/topic2_visual_data_analysis.ipynb?flush_cache=true)\n",
    " - [Overview of Seaborn, Matplotlib and Plotly libraries](https://mlcourse.ai/notebooks/blob/master/jupyter_english/topic02_visual_data_analysis/topic2_additional_seaborn_matplotlib_plotly.ipynb?flush_cache=true)\n",
    " - first lectures in [this](https://www.youtube.com/watch?v=QKTuw4PNOsU&list=PLVlY_7IJCMJeRfZ68eVfEcu-UcN9BbwiX) YouTube playlist \n",
    "\n",
    "### Your task is to:\n",
    " - write code and perform computations in the cells below\n",
    " - choose answers in the [webform](https://docs.google.com/forms/d/1qSTjLAGqsmpFRhacv0vM-CMQSTT_mtOalNXdRTcdtM0/edit)\n",
    " - submit answers with **the very same email and name** as in assignment 1. This is a part of the assignment, if you don't manage to do so, you won't get credits. If in doubt, you can re-submit A1 form till the deadline for A1, no problem\n",
    " \n",
    "### <center> Deadline for A2: 2018 October 21, 20:59 CET\n",
    "\n"
   ]
  },
  {
   "cell_type": "code",
   "execution_count": 1,
   "metadata": {},
   "outputs": [],
   "source": [
    "import numpy as np\n",
    "import pandas as pd\n",
    "# pip install seaborn \n",
    "import seaborn as sns\n",
    "import matplotlib.pyplot as plt"
   ]
  },
  {
   "cell_type": "markdown",
   "metadata": {},
   "source": [
    "* Download the data [archive](http://stat-computing.org/dataexpo/2009/2008.csv.bz2) (Archived ~ 114 Mb, unzipped - ~ 690 Mb). No need to unzip - pandas can unbzip on the fly.\n",
    "* Place it in the \"../../data\" folder, or change the path below according to your location.\n",
    "* The dataset has information about carriers and flights between US airports during the year 2008. \n",
    "* Column description is available [here](http://www.transtats.bts.gov/Fields.asp?Table_ID=236). Visit this site to find ex. meaning of flight cancellation codes."
   ]
  },
  {
   "cell_type": "markdown",
   "metadata": {},
   "source": [
    "**Variable descriptions**\n",
    "\n",
    "\n",
    "    |    |        Name       |                                Description                                |\n",
    "    |----|-------------------|---------------------------------------------------------------------------|\n",
    "    |  1 |        Year       |                                 1987-2008                                 |\n",
    "    |  2 |       Month       |                                    1-12                                   |\n",
    "    |  3 |     DayofMonth    |                                    1-31                                   |\n",
    "    |  4 |     DayOfWeek     |                          1 (Monday) - 7 (Sunday)                          |\n",
    "    |  5 |      DepTime      |                    actual departure time (local, hhmm)                    |\n",
    "    |  6 |     CRSDepTime    |                   scheduled departure time (local, hhmm)                  |\n",
    "    |  7 |      ArrTime      |                     actual arrival time (local, hhmm)                     |\n",
    "    |  8 |     CRSArrTime    |                    scheduled arrival time (local, hhmm)                   |\n",
    "    |  9 |   UniqueCarrier   |                            unique carrier code                            |\n",
    "    | 10 |     FlightNum     |                               flight number                               |\n",
    "    | 11 |      TailNum      |                             plane tail number                             |\n",
    "    | 12 | ActualElapsedTime |                                 in minutes                                |\n",
    "    | 13 |   CRSElapsedTime  |                                 in minutes                                |\n",
    "    | 14 |      AirTime      |                                 in minutes                                |\n",
    "    | 15 |      ArrDelay     |                         arrival delay, in minutes                         |\n",
    "    | 16 |      DepDelay     |                        departure delay, in minutes                        |\n",
    "    | 17 |       Origin      |                          origin IATA airport code                         |\n",
    "    | 18 |        Dest       |                       destination IATA airport code                       |\n",
    "    | 19 |      Distance     |                                  in miles                                 |\n",
    "    | 20 |       TaxiIn      |                          taxi in time, in minutes                         |\n",
    "    | 21 |      TaxiOut      |                          taxi out time in minutes                         |\n",
    "    | 22 |     Cancelled     |                         was the flight cancelled?                         |\n",
    "    | 23 |  CancellationCode | reason for cancellation (A = carrier, B = weather, C = NAS, D = security) |\n",
    "    | 24 |      Diverted     |                              1 = yes, 0 = no                              |\n",
    "    | 25 |    CarrierDelay   |                                 in minutes                                |\n",
    "    | 26 |    WeatherDelay   |                                 in minutes                                |\n",
    "    | 27 |      NASDelay     |                                 in minutes                                |\n",
    "    | 28 |   SecurityDelay   |                                 in minutes                                |\n",
    "    | 29 | LateAircraftDelay |                                 in minutes                                |"
   ]
  },
  {
   "cell_type": "markdown",
   "metadata": {},
   "source": [
    "**Reading data into memory and creating a Pandas _DataFrame_ object**\n",
    "\n",
    "(This may take a while, be patient)\n",
    "\n",
    "We are not going to read in the whole dataset. In order to reduce memory footprint, we instead load only needed columns and cast them suitable data types."
   ]
  },
  {
   "cell_type": "code",
   "execution_count": 2,
   "metadata": {},
   "outputs": [],
   "source": [
    "dtype = {'DayOfWeek': np.uint8, 'DayofMonth': np.uint8, 'Month': np.uint8 , 'Cancelled': np.uint8, \n",
    "         'Year': np.uint16, 'FlightNum': np.uint16 , 'Distance': np.uint16, \n",
    "         'UniqueCarrier': str, 'CancellationCode': str, 'Origin': str, 'Dest': str,\n",
    "         'ArrDelay': np.float16, 'DepDelay': np.float16, 'CarrierDelay': np.float16,\n",
    "         'WeatherDelay': np.float16, 'NASDelay': np.float16, 'SecurityDelay': np.float16,\n",
    "         'LateAircraftDelay': np.float16, 'DepTime': np.float16}"
   ]
  },
  {
   "cell_type": "code",
   "execution_count": 4,
   "metadata": {},
   "outputs": [
    {
     "name": "stdout",
     "output_type": "stream",
     "text": [
<<<<<<< HEAD
      "Wall time: 53.9 s\n"
=======
      "Wall time: 36.5 s\n"
>>>>>>> 4dfb32a8faa084ca954a84768b8f3877b2a7d156
     ]
    }
   ],
   "source": [
    "%%time\n",
    "# change the path if needed\n",
    "path = '../../../2008.csv.bz2'\n",
    "flights_df = pd.read_csv(path, usecols=dtype.keys(), dtype=dtype)"
   ]
  },
  {
   "cell_type": "markdown",
   "metadata": {},
   "source": [
    "**Check the number of rows and columns and print column names.**"
   ]
  },
  {
   "cell_type": "code",
   "execution_count": 5,
   "metadata": {},
   "outputs": [
    {
     "name": "stdout",
     "output_type": "stream",
     "text": [
      "(7009728, 19)\n",
      "Index(['Year', 'Month', 'DayofMonth', 'DayOfWeek', 'DepTime', 'UniqueCarrier',\n",
      "       'FlightNum', 'ArrDelay', 'DepDelay', 'Origin', 'Dest', 'Distance',\n",
      "       'Cancelled', 'CancellationCode', 'CarrierDelay', 'WeatherDelay',\n",
      "       'NASDelay', 'SecurityDelay', 'LateAircraftDelay'],\n",
      "      dtype='object')\n"
     ]
    }
   ],
   "source": [
    "print(flights_df.shape)\n",
    "print(flights_df.columns)"
   ]
  },
  {
   "cell_type": "markdown",
   "metadata": {},
   "source": [
    "**Print first 5 rows of the dataset.**"
   ]
  },
  {
   "cell_type": "code",
   "execution_count": 6,
   "metadata": {},
   "outputs": [
    {
     "data": {
      "text/html": [
       "<div>\n",
       "<style scoped>\n",
       "    .dataframe tbody tr th:only-of-type {\n",
       "        vertical-align: middle;\n",
       "    }\n",
       "\n",
       "    .dataframe tbody tr th {\n",
       "        vertical-align: top;\n",
       "    }\n",
       "\n",
       "    .dataframe thead th {\n",
       "        text-align: right;\n",
       "    }\n",
       "</style>\n",
       "<table border=\"1\" class=\"dataframe\">\n",
       "  <thead>\n",
       "    <tr style=\"text-align: right;\">\n",
       "      <th></th>\n",
       "      <th>Year</th>\n",
       "      <th>Month</th>\n",
       "      <th>DayofMonth</th>\n",
       "      <th>DayOfWeek</th>\n",
       "      <th>DepTime</th>\n",
       "      <th>UniqueCarrier</th>\n",
       "      <th>FlightNum</th>\n",
       "      <th>ArrDelay</th>\n",
       "      <th>DepDelay</th>\n",
       "      <th>Origin</th>\n",
       "      <th>Dest</th>\n",
       "      <th>Distance</th>\n",
       "      <th>Cancelled</th>\n",
       "      <th>CancellationCode</th>\n",
       "      <th>CarrierDelay</th>\n",
       "      <th>WeatherDelay</th>\n",
       "      <th>NASDelay</th>\n",
       "      <th>SecurityDelay</th>\n",
       "      <th>LateAircraftDelay</th>\n",
       "    </tr>\n",
       "  </thead>\n",
       "  <tbody>\n",
       "    <tr>\n",
       "      <th>0</th>\n",
       "      <td>2008</td>\n",
       "      <td>1</td>\n",
       "      <td>3</td>\n",
       "      <td>4</td>\n",
       "      <td>2003.0</td>\n",
       "      <td>WN</td>\n",
       "      <td>335</td>\n",
       "      <td>-14.0</td>\n",
       "      <td>8.0</td>\n",
       "      <td>IAD</td>\n",
       "      <td>TPA</td>\n",
       "      <td>810</td>\n",
       "      <td>0</td>\n",
       "      <td>NaN</td>\n",
       "      <td>NaN</td>\n",
       "      <td>NaN</td>\n",
       "      <td>NaN</td>\n",
       "      <td>NaN</td>\n",
       "      <td>NaN</td>\n",
       "    </tr>\n",
       "    <tr>\n",
       "      <th>1</th>\n",
       "      <td>2008</td>\n",
       "      <td>1</td>\n",
       "      <td>3</td>\n",
       "      <td>4</td>\n",
       "      <td>754.0</td>\n",
       "      <td>WN</td>\n",
       "      <td>3231</td>\n",
       "      <td>2.0</td>\n",
       "      <td>19.0</td>\n",
       "      <td>IAD</td>\n",
       "      <td>TPA</td>\n",
       "      <td>810</td>\n",
       "      <td>0</td>\n",
       "      <td>NaN</td>\n",
       "      <td>NaN</td>\n",
       "      <td>NaN</td>\n",
       "      <td>NaN</td>\n",
       "      <td>NaN</td>\n",
       "      <td>NaN</td>\n",
       "    </tr>\n",
       "    <tr>\n",
       "      <th>2</th>\n",
       "      <td>2008</td>\n",
       "      <td>1</td>\n",
       "      <td>3</td>\n",
       "      <td>4</td>\n",
       "      <td>628.0</td>\n",
       "      <td>WN</td>\n",
       "      <td>448</td>\n",
       "      <td>14.0</td>\n",
       "      <td>8.0</td>\n",
       "      <td>IND</td>\n",
       "      <td>BWI</td>\n",
       "      <td>515</td>\n",
       "      <td>0</td>\n",
       "      <td>NaN</td>\n",
       "      <td>NaN</td>\n",
       "      <td>NaN</td>\n",
       "      <td>NaN</td>\n",
       "      <td>NaN</td>\n",
       "      <td>NaN</td>\n",
       "    </tr>\n",
       "    <tr>\n",
       "      <th>3</th>\n",
       "      <td>2008</td>\n",
       "      <td>1</td>\n",
       "      <td>3</td>\n",
       "      <td>4</td>\n",
       "      <td>926.0</td>\n",
       "      <td>WN</td>\n",
       "      <td>1746</td>\n",
       "      <td>-6.0</td>\n",
       "      <td>-4.0</td>\n",
       "      <td>IND</td>\n",
       "      <td>BWI</td>\n",
       "      <td>515</td>\n",
       "      <td>0</td>\n",
       "      <td>NaN</td>\n",
       "      <td>NaN</td>\n",
       "      <td>NaN</td>\n",
       "      <td>NaN</td>\n",
       "      <td>NaN</td>\n",
       "      <td>NaN</td>\n",
       "    </tr>\n",
       "    <tr>\n",
       "      <th>4</th>\n",
       "      <td>2008</td>\n",
       "      <td>1</td>\n",
       "      <td>3</td>\n",
       "      <td>4</td>\n",
       "      <td>1829.0</td>\n",
       "      <td>WN</td>\n",
       "      <td>3920</td>\n",
       "      <td>34.0</td>\n",
       "      <td>34.0</td>\n",
       "      <td>IND</td>\n",
       "      <td>BWI</td>\n",
       "      <td>515</td>\n",
       "      <td>0</td>\n",
       "      <td>NaN</td>\n",
       "      <td>2.0</td>\n",
       "      <td>0.0</td>\n",
       "      <td>0.0</td>\n",
       "      <td>0.0</td>\n",
       "      <td>32.0</td>\n",
       "    </tr>\n",
       "  </tbody>\n",
       "</table>\n",
       "</div>"
      ],
      "text/plain": [
       "   Year  Month  DayofMonth  DayOfWeek  DepTime UniqueCarrier  FlightNum  \\\n",
       "0  2008      1           3          4   2003.0            WN        335   \n",
       "1  2008      1           3          4    754.0            WN       3231   \n",
       "2  2008      1           3          4    628.0            WN        448   \n",
       "3  2008      1           3          4    926.0            WN       1746   \n",
       "4  2008      1           3          4   1829.0            WN       3920   \n",
       "\n",
       "   ArrDelay  DepDelay Origin Dest  Distance  Cancelled CancellationCode  \\\n",
       "0     -14.0       8.0    IAD  TPA       810          0              NaN   \n",
       "1       2.0      19.0    IAD  TPA       810          0              NaN   \n",
       "2      14.0       8.0    IND  BWI       515          0              NaN   \n",
       "3      -6.0      -4.0    IND  BWI       515          0              NaN   \n",
       "4      34.0      34.0    IND  BWI       515          0              NaN   \n",
       "\n",
       "   CarrierDelay  WeatherDelay  NASDelay  SecurityDelay  LateAircraftDelay  \n",
       "0           NaN           NaN       NaN            NaN                NaN  \n",
       "1           NaN           NaN       NaN            NaN                NaN  \n",
       "2           NaN           NaN       NaN            NaN                NaN  \n",
       "3           NaN           NaN       NaN            NaN                NaN  \n",
       "4           2.0           0.0       0.0            0.0               32.0  "
      ]
     },
     "execution_count": 6,
     "metadata": {},
     "output_type": "execute_result"
    }
   ],
   "source": [
    "flights_df.head()"
   ]
  },
  {
   "cell_type": "markdown",
   "metadata": {},
   "source": [
    "**Transpose the frame to see all features at once.**"
   ]
  },
  {
   "cell_type": "code",
   "execution_count": 7,
   "metadata": {},
   "outputs": [
    {
     "data": {
      "text/html": [
       "<div>\n",
       "<style scoped>\n",
       "    .dataframe tbody tr th:only-of-type {\n",
       "        vertical-align: middle;\n",
       "    }\n",
       "\n",
       "    .dataframe tbody tr th {\n",
       "        vertical-align: top;\n",
       "    }\n",
       "\n",
       "    .dataframe thead th {\n",
       "        text-align: right;\n",
       "    }\n",
       "</style>\n",
       "<table border=\"1\" class=\"dataframe\">\n",
       "  <thead>\n",
       "    <tr style=\"text-align: right;\">\n",
       "      <th></th>\n",
       "      <th>0</th>\n",
       "      <th>1</th>\n",
       "      <th>2</th>\n",
       "      <th>3</th>\n",
       "      <th>4</th>\n",
       "    </tr>\n",
       "  </thead>\n",
       "  <tbody>\n",
       "    <tr>\n",
       "      <th>Year</th>\n",
       "      <td>2008</td>\n",
       "      <td>2008</td>\n",
       "      <td>2008</td>\n",
       "      <td>2008</td>\n",
       "      <td>2008</td>\n",
       "    </tr>\n",
       "    <tr>\n",
       "      <th>Month</th>\n",
       "      <td>1</td>\n",
       "      <td>1</td>\n",
       "      <td>1</td>\n",
       "      <td>1</td>\n",
       "      <td>1</td>\n",
       "    </tr>\n",
       "    <tr>\n",
       "      <th>DayofMonth</th>\n",
       "      <td>3</td>\n",
       "      <td>3</td>\n",
       "      <td>3</td>\n",
       "      <td>3</td>\n",
       "      <td>3</td>\n",
       "    </tr>\n",
       "    <tr>\n",
       "      <th>DayOfWeek</th>\n",
       "      <td>4</td>\n",
       "      <td>4</td>\n",
       "      <td>4</td>\n",
       "      <td>4</td>\n",
       "      <td>4</td>\n",
       "    </tr>\n",
       "    <tr>\n",
       "      <th>DepTime</th>\n",
       "      <td>2003</td>\n",
       "      <td>754</td>\n",
       "      <td>628</td>\n",
       "      <td>926</td>\n",
       "      <td>1829</td>\n",
       "    </tr>\n",
       "    <tr>\n",
       "      <th>UniqueCarrier</th>\n",
       "      <td>WN</td>\n",
       "      <td>WN</td>\n",
       "      <td>WN</td>\n",
       "      <td>WN</td>\n",
       "      <td>WN</td>\n",
       "    </tr>\n",
       "    <tr>\n",
       "      <th>FlightNum</th>\n",
       "      <td>335</td>\n",
       "      <td>3231</td>\n",
       "      <td>448</td>\n",
       "      <td>1746</td>\n",
       "      <td>3920</td>\n",
       "    </tr>\n",
       "    <tr>\n",
       "      <th>ArrDelay</th>\n",
       "      <td>-14</td>\n",
       "      <td>2</td>\n",
       "      <td>14</td>\n",
       "      <td>-6</td>\n",
       "      <td>34</td>\n",
       "    </tr>\n",
       "    <tr>\n",
       "      <th>DepDelay</th>\n",
       "      <td>8</td>\n",
       "      <td>19</td>\n",
       "      <td>8</td>\n",
       "      <td>-4</td>\n",
       "      <td>34</td>\n",
       "    </tr>\n",
       "    <tr>\n",
       "      <th>Origin</th>\n",
       "      <td>IAD</td>\n",
       "      <td>IAD</td>\n",
       "      <td>IND</td>\n",
       "      <td>IND</td>\n",
       "      <td>IND</td>\n",
       "    </tr>\n",
       "    <tr>\n",
       "      <th>Dest</th>\n",
       "      <td>TPA</td>\n",
       "      <td>TPA</td>\n",
       "      <td>BWI</td>\n",
       "      <td>BWI</td>\n",
       "      <td>BWI</td>\n",
       "    </tr>\n",
       "    <tr>\n",
       "      <th>Distance</th>\n",
       "      <td>810</td>\n",
       "      <td>810</td>\n",
       "      <td>515</td>\n",
       "      <td>515</td>\n",
       "      <td>515</td>\n",
       "    </tr>\n",
       "    <tr>\n",
       "      <th>Cancelled</th>\n",
       "      <td>0</td>\n",
       "      <td>0</td>\n",
       "      <td>0</td>\n",
       "      <td>0</td>\n",
       "      <td>0</td>\n",
       "    </tr>\n",
       "    <tr>\n",
       "      <th>CancellationCode</th>\n",
       "      <td>NaN</td>\n",
       "      <td>NaN</td>\n",
       "      <td>NaN</td>\n",
       "      <td>NaN</td>\n",
       "      <td>NaN</td>\n",
       "    </tr>\n",
       "    <tr>\n",
       "      <th>CarrierDelay</th>\n",
       "      <td>NaN</td>\n",
       "      <td>NaN</td>\n",
       "      <td>NaN</td>\n",
       "      <td>NaN</td>\n",
       "      <td>2</td>\n",
       "    </tr>\n",
       "    <tr>\n",
       "      <th>WeatherDelay</th>\n",
       "      <td>NaN</td>\n",
       "      <td>NaN</td>\n",
       "      <td>NaN</td>\n",
       "      <td>NaN</td>\n",
       "      <td>0</td>\n",
       "    </tr>\n",
       "    <tr>\n",
       "      <th>NASDelay</th>\n",
       "      <td>NaN</td>\n",
       "      <td>NaN</td>\n",
       "      <td>NaN</td>\n",
       "      <td>NaN</td>\n",
       "      <td>0</td>\n",
       "    </tr>\n",
       "    <tr>\n",
       "      <th>SecurityDelay</th>\n",
       "      <td>NaN</td>\n",
       "      <td>NaN</td>\n",
       "      <td>NaN</td>\n",
       "      <td>NaN</td>\n",
       "      <td>0</td>\n",
       "    </tr>\n",
       "    <tr>\n",
       "      <th>LateAircraftDelay</th>\n",
       "      <td>NaN</td>\n",
       "      <td>NaN</td>\n",
       "      <td>NaN</td>\n",
       "      <td>NaN</td>\n",
       "      <td>32</td>\n",
       "    </tr>\n",
       "  </tbody>\n",
       "</table>\n",
       "</div>"
      ],
      "text/plain": [
       "                      0     1     2     3     4\n",
       "Year               2008  2008  2008  2008  2008\n",
       "Month                 1     1     1     1     1\n",
       "DayofMonth            3     3     3     3     3\n",
       "DayOfWeek             4     4     4     4     4\n",
       "DepTime            2003   754   628   926  1829\n",
       "UniqueCarrier        WN    WN    WN    WN    WN\n",
       "FlightNum           335  3231   448  1746  3920\n",
       "ArrDelay            -14     2    14    -6    34\n",
       "DepDelay              8    19     8    -4    34\n",
       "Origin              IAD   IAD   IND   IND   IND\n",
       "Dest                TPA   TPA   BWI   BWI   BWI\n",
       "Distance            810   810   515   515   515\n",
       "Cancelled             0     0     0     0     0\n",
       "CancellationCode    NaN   NaN   NaN   NaN   NaN\n",
       "CarrierDelay        NaN   NaN   NaN   NaN     2\n",
       "WeatherDelay        NaN   NaN   NaN   NaN     0\n",
       "NASDelay            NaN   NaN   NaN   NaN     0\n",
       "SecurityDelay       NaN   NaN   NaN   NaN     0\n",
       "LateAircraftDelay   NaN   NaN   NaN   NaN    32"
      ]
     },
     "execution_count": 7,
     "metadata": {},
     "output_type": "execute_result"
    }
   ],
   "source": [
    "flights_df.head().T"
   ]
  },
  {
   "cell_type": "markdown",
   "metadata": {},
   "source": [
    "**Examine data types of all features and total dataframe size in memory.**"
   ]
  },
  {
   "cell_type": "code",
   "execution_count": 7,
   "metadata": {},
   "outputs": [
    {
     "name": "stdout",
     "output_type": "stream",
     "text": [
      "<class 'pandas.core.frame.DataFrame'>\n",
      "RangeIndex: 7009728 entries, 0 to 7009727\n",
      "Data columns (total 19 columns):\n",
      "Year                 uint16\n",
      "Month                uint8\n",
      "DayofMonth           uint8\n",
      "DayOfWeek            uint8\n",
      "DepTime              float16\n",
      "UniqueCarrier        object\n",
      "FlightNum            uint16\n",
      "ArrDelay             float16\n",
      "DepDelay             float16\n",
      "Origin               object\n",
      "Dest                 object\n",
      "Distance             uint16\n",
      "Cancelled            uint8\n",
      "CancellationCode     object\n",
      "CarrierDelay         float16\n",
      "WeatherDelay         float16\n",
      "NASDelay             float16\n",
      "SecurityDelay        float16\n",
      "LateAircraftDelay    float16\n",
      "dtypes: float16(8), object(4), uint16(3), uint8(4)\n",
      "memory usage: 387.7+ MB\n"
     ]
    }
   ],
   "source": [
    "flights_df.info()"
   ]
  },
  {
   "cell_type": "markdown",
   "metadata": {},
   "source": [
    "**Get basic statistics of each feature.**"
   ]
  },
  {
   "cell_type": "code",
   "execution_count": 8,
   "metadata": {},
   "outputs": [
    {
     "data": {
      "text/html": [
       "<div>\n",
       "<style scoped>\n",
       "    .dataframe tbody tr th:only-of-type {\n",
       "        vertical-align: middle;\n",
       "    }\n",
       "\n",
       "    .dataframe tbody tr th {\n",
       "        vertical-align: top;\n",
       "    }\n",
       "\n",
       "    .dataframe thead th {\n",
       "        text-align: right;\n",
       "    }\n",
       "</style>\n",
       "<table border=\"1\" class=\"dataframe\">\n",
       "  <thead>\n",
       "    <tr style=\"text-align: right;\">\n",
       "      <th></th>\n",
       "      <th>count</th>\n",
       "      <th>mean</th>\n",
       "      <th>std</th>\n",
       "      <th>min</th>\n",
       "      <th>25%</th>\n",
       "      <th>50%</th>\n",
       "      <th>75%</th>\n",
       "      <th>max</th>\n",
       "    </tr>\n",
       "  </thead>\n",
       "  <tbody>\n",
       "    <tr>\n",
       "      <th>Year</th>\n",
       "      <td>7009728.0</td>\n",
       "      <td>2008.000000</td>\n",
       "      <td>0.000000</td>\n",
       "      <td>2008.0</td>\n",
       "      <td>2008.0</td>\n",
       "      <td>2008.0</td>\n",
       "      <td>2008.0</td>\n",
       "      <td>2008.0</td>\n",
       "    </tr>\n",
       "    <tr>\n",
       "      <th>Month</th>\n",
       "      <td>7009728.0</td>\n",
       "      <td>6.375130</td>\n",
       "      <td>3.406737</td>\n",
       "      <td>1.0</td>\n",
       "      <td>3.0</td>\n",
       "      <td>6.0</td>\n",
       "      <td>9.0</td>\n",
       "      <td>12.0</td>\n",
       "    </tr>\n",
       "    <tr>\n",
       "      <th>DayofMonth</th>\n",
       "      <td>7009728.0</td>\n",
       "      <td>15.728015</td>\n",
       "      <td>8.797068</td>\n",
       "      <td>1.0</td>\n",
       "      <td>8.0</td>\n",
       "      <td>16.0</td>\n",
       "      <td>23.0</td>\n",
       "      <td>31.0</td>\n",
       "    </tr>\n",
       "    <tr>\n",
       "      <th>DayOfWeek</th>\n",
       "      <td>7009728.0</td>\n",
       "      <td>3.924182</td>\n",
       "      <td>1.988259</td>\n",
       "      <td>1.0</td>\n",
       "      <td>2.0</td>\n",
       "      <td>4.0</td>\n",
       "      <td>6.0</td>\n",
       "      <td>7.0</td>\n",
       "    </tr>\n",
       "    <tr>\n",
       "      <th>DepTime</th>\n",
       "      <td>6873482.0</td>\n",
       "      <td>NaN</td>\n",
       "      <td>NaN</td>\n",
       "      <td>1.0</td>\n",
       "      <td>928.0</td>\n",
       "      <td>1325.0</td>\n",
       "      <td>1728.0</td>\n",
       "      <td>2400.0</td>\n",
       "    </tr>\n",
       "    <tr>\n",
       "      <th>FlightNum</th>\n",
       "      <td>7009728.0</td>\n",
       "      <td>2224.200105</td>\n",
       "      <td>1961.715999</td>\n",
       "      <td>1.0</td>\n",
       "      <td>622.0</td>\n",
       "      <td>1571.0</td>\n",
       "      <td>3518.0</td>\n",
       "      <td>9743.0</td>\n",
       "    </tr>\n",
       "    <tr>\n",
       "      <th>ArrDelay</th>\n",
       "      <td>6855029.0</td>\n",
       "      <td>NaN</td>\n",
       "      <td>NaN</td>\n",
       "      <td>-519.0</td>\n",
       "      <td>-10.0</td>\n",
       "      <td>-2.0</td>\n",
       "      <td>12.0</td>\n",
       "      <td>2460.0</td>\n",
       "    </tr>\n",
       "    <tr>\n",
       "      <th>DepDelay</th>\n",
       "      <td>6873482.0</td>\n",
       "      <td>NaN</td>\n",
       "      <td>NaN</td>\n",
       "      <td>-534.0</td>\n",
       "      <td>-4.0</td>\n",
       "      <td>-1.0</td>\n",
       "      <td>8.0</td>\n",
       "      <td>2468.0</td>\n",
       "    </tr>\n",
       "    <tr>\n",
       "      <th>Distance</th>\n",
       "      <td>7009728.0</td>\n",
       "      <td>726.387029</td>\n",
       "      <td>562.101803</td>\n",
       "      <td>11.0</td>\n",
       "      <td>325.0</td>\n",
       "      <td>581.0</td>\n",
       "      <td>954.0</td>\n",
       "      <td>4962.0</td>\n",
       "    </tr>\n",
       "    <tr>\n",
       "      <th>Cancelled</th>\n",
       "      <td>7009728.0</td>\n",
       "      <td>0.019606</td>\n",
       "      <td>0.138643</td>\n",
       "      <td>0.0</td>\n",
       "      <td>0.0</td>\n",
       "      <td>0.0</td>\n",
       "      <td>0.0</td>\n",
       "      <td>1.0</td>\n",
       "    </tr>\n",
       "    <tr>\n",
       "      <th>CarrierDelay</th>\n",
       "      <td>1524735.0</td>\n",
       "      <td>NaN</td>\n",
       "      <td>NaN</td>\n",
       "      <td>0.0</td>\n",
       "      <td>0.0</td>\n",
       "      <td>0.0</td>\n",
       "      <td>16.0</td>\n",
       "      <td>2436.0</td>\n",
       "    </tr>\n",
       "    <tr>\n",
       "      <th>WeatherDelay</th>\n",
       "      <td>1524735.0</td>\n",
       "      <td>NaN</td>\n",
       "      <td>NaN</td>\n",
       "      <td>0.0</td>\n",
       "      <td>0.0</td>\n",
       "      <td>0.0</td>\n",
       "      <td>0.0</td>\n",
       "      <td>1352.0</td>\n",
       "    </tr>\n",
       "    <tr>\n",
       "      <th>NASDelay</th>\n",
       "      <td>1524735.0</td>\n",
       "      <td>NaN</td>\n",
       "      <td>NaN</td>\n",
       "      <td>0.0</td>\n",
       "      <td>0.0</td>\n",
       "      <td>6.0</td>\n",
       "      <td>21.0</td>\n",
       "      <td>1357.0</td>\n",
       "    </tr>\n",
       "    <tr>\n",
       "      <th>SecurityDelay</th>\n",
       "      <td>1524735.0</td>\n",
       "      <td>NaN</td>\n",
       "      <td>NaN</td>\n",
       "      <td>0.0</td>\n",
       "      <td>0.0</td>\n",
       "      <td>0.0</td>\n",
       "      <td>0.0</td>\n",
       "      <td>392.0</td>\n",
       "    </tr>\n",
       "    <tr>\n",
       "      <th>LateAircraftDelay</th>\n",
       "      <td>1524735.0</td>\n",
       "      <td>NaN</td>\n",
       "      <td>NaN</td>\n",
       "      <td>0.0</td>\n",
       "      <td>0.0</td>\n",
       "      <td>0.0</td>\n",
       "      <td>26.0</td>\n",
       "      <td>1316.0</td>\n",
       "    </tr>\n",
       "  </tbody>\n",
       "</table>\n",
       "</div>"
      ],
      "text/plain": [
       "                       count         mean          std     min     25%  \\\n",
       "Year               7009728.0  2008.000000     0.000000  2008.0  2008.0   \n",
       "Month              7009728.0     6.375130     3.406737     1.0     3.0   \n",
       "DayofMonth         7009728.0    15.728015     8.797068     1.0     8.0   \n",
       "DayOfWeek          7009728.0     3.924182     1.988259     1.0     2.0   \n",
       "DepTime            6873482.0          NaN          NaN     1.0   928.0   \n",
       "FlightNum          7009728.0  2224.200105  1961.715999     1.0   622.0   \n",
       "ArrDelay           6855029.0          NaN          NaN  -519.0   -10.0   \n",
       "DepDelay           6873482.0          NaN          NaN  -534.0    -4.0   \n",
       "Distance           7009728.0   726.387029   562.101803    11.0   325.0   \n",
       "Cancelled          7009728.0     0.019606     0.138643     0.0     0.0   \n",
       "CarrierDelay       1524735.0          NaN          NaN     0.0     0.0   \n",
       "WeatherDelay       1524735.0          NaN          NaN     0.0     0.0   \n",
       "NASDelay           1524735.0          NaN          NaN     0.0     0.0   \n",
       "SecurityDelay      1524735.0          NaN          NaN     0.0     0.0   \n",
       "LateAircraftDelay  1524735.0          NaN          NaN     0.0     0.0   \n",
       "\n",
       "                      50%     75%     max  \n",
       "Year               2008.0  2008.0  2008.0  \n",
       "Month                 6.0     9.0    12.0  \n",
       "DayofMonth           16.0    23.0    31.0  \n",
       "DayOfWeek             4.0     6.0     7.0  \n",
       "DepTime            1325.0  1728.0  2400.0  \n",
       "FlightNum          1571.0  3518.0  9743.0  \n",
       "ArrDelay             -2.0    12.0  2460.0  \n",
       "DepDelay             -1.0     8.0  2468.0  \n",
       "Distance            581.0   954.0  4962.0  \n",
       "Cancelled             0.0     0.0     1.0  \n",
       "CarrierDelay          0.0    16.0  2436.0  \n",
       "WeatherDelay          0.0     0.0  1352.0  \n",
       "NASDelay              6.0    21.0  1357.0  \n",
       "SecurityDelay         0.0     0.0   392.0  \n",
       "LateAircraftDelay     0.0    26.0  1316.0  "
      ]
     },
     "execution_count": 8,
     "metadata": {},
     "output_type": "execute_result"
    }
   ],
   "source": [
    "flights_df.describe().T"
   ]
  },
  {
   "cell_type": "markdown",
   "metadata": {},
   "source": [
    "**Count unique Carriers and plot their relative share of flights:**"
   ]
  },
  {
   "cell_type": "code",
   "execution_count": 9,
   "metadata": {},
   "outputs": [
    {
     "data": {
      "text/plain": [
       "20"
      ]
     },
     "execution_count": 9,
     "metadata": {},
     "output_type": "execute_result"
    }
   ],
   "source": [
    "flights_df['UniqueCarrier'].nunique()"
   ]
  },
  {
   "cell_type": "code",
   "execution_count": 10,
   "metadata": {},
   "outputs": [
    {
     "data": {
      "image/png": "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\n",
      "text/plain": [
       "<Figure size 432x288 with 1 Axes>"
      ]
     },
     "metadata": {
      "needs_background": "light"
     },
     "output_type": "display_data"
    }
   ],
   "source": [
    "flights_df.groupby('UniqueCarrier').size().plot(kind='bar');"
   ]
  },
  {
   "cell_type": "markdown",
   "metadata": {},
   "source": [
    "**We can also _group by_ category/categories in order to calculate different aggregated statistics.**\n",
    "\n",
    "**For example, finding top-3 flight codes, that have the largest total distance travelled in year 2008.**"
   ]
  },
  {
   "cell_type": "code",
   "execution_count": 11,
   "metadata": {},
   "outputs": [
    {
     "data": {
      "text/plain": [
       "UniqueCarrier  FlightNum\n",
       "CO             15           1796244.0\n",
       "               14           1796244.0\n",
       "UA             52           1789722.0\n",
       "Name: Distance, dtype: float64"
      ]
     },
     "execution_count": 11,
     "metadata": {},
     "output_type": "execute_result"
    }
   ],
   "source": [
    "flights_df.groupby(['UniqueCarrier','FlightNum'])['Distance'].sum().sort_values(ascending=False).iloc[:3]"
   ]
  },
  {
   "cell_type": "markdown",
   "metadata": {},
   "source": [
    "**Another way:**"
   ]
  },
  {
   "cell_type": "code",
   "execution_count": 12,
   "metadata": {},
   "outputs": [
    {
     "data": {
      "text/html": [
       "<div>\n",
       "<style scoped>\n",
       "    .dataframe tbody tr th:only-of-type {\n",
       "        vertical-align: middle;\n",
       "    }\n",
       "\n",
       "    .dataframe tbody tr th {\n",
       "        vertical-align: top;\n",
       "    }\n",
       "\n",
       "    .dataframe thead tr th {\n",
       "        text-align: left;\n",
       "    }\n",
       "\n",
       "    .dataframe thead tr:last-of-type th {\n",
       "        text-align: right;\n",
       "    }\n",
       "</style>\n",
       "<table border=\"1\" class=\"dataframe\">\n",
       "  <thead>\n",
       "    <tr>\n",
       "      <th></th>\n",
       "      <th></th>\n",
       "      <th colspan=\"3\" halign=\"left\">Distance</th>\n",
       "      <th>Cancelled</th>\n",
       "    </tr>\n",
       "    <tr>\n",
       "      <th></th>\n",
       "      <th></th>\n",
       "      <th>mean</th>\n",
       "      <th>sum</th>\n",
       "      <th>count</th>\n",
       "      <th>sum</th>\n",
       "    </tr>\n",
       "    <tr>\n",
       "      <th>UniqueCarrier</th>\n",
       "      <th>FlightNum</th>\n",
       "      <th></th>\n",
       "      <th></th>\n",
       "      <th></th>\n",
       "      <th></th>\n",
       "    </tr>\n",
       "  </thead>\n",
       "  <tbody>\n",
       "    <tr>\n",
       "      <th rowspan=\"2\" valign=\"top\">CO</th>\n",
       "      <th>15</th>\n",
       "      <td>4962.000000</td>\n",
       "      <td>1796244.0</td>\n",
       "      <td>362</td>\n",
       "      <td>0</td>\n",
       "    </tr>\n",
       "    <tr>\n",
       "      <th>14</th>\n",
       "      <td>4962.000000</td>\n",
       "      <td>1796244.0</td>\n",
       "      <td>362</td>\n",
       "      <td>0</td>\n",
       "    </tr>\n",
       "    <tr>\n",
       "      <th>UA</th>\n",
       "      <th>52</th>\n",
       "      <td>2465.181818</td>\n",
       "      <td>1789722.0</td>\n",
       "      <td>726</td>\n",
       "      <td>8</td>\n",
       "    </tr>\n",
       "  </tbody>\n",
       "</table>\n",
       "</div>"
      ],
      "text/plain": [
       "                            Distance                  Cancelled\n",
       "                                mean        sum count       sum\n",
       "UniqueCarrier FlightNum                                        \n",
       "CO            15         4962.000000  1796244.0   362         0\n",
       "              14         4962.000000  1796244.0   362         0\n",
       "UA            52         2465.181818  1789722.0   726         8"
      ]
     },
     "execution_count": 12,
     "metadata": {},
     "output_type": "execute_result"
    }
   ],
   "source": [
    "flights_df.groupby(['UniqueCarrier','FlightNum'])\\\n",
    "  .agg({'Distance': [np.mean, np.sum, 'count'],\n",
    "        'Cancelled': np.sum})\\\n",
    "  .sort_values(('Distance', 'sum'), ascending=False)\\\n",
    "  .iloc[0:3]"
   ]
  },
  {
   "cell_type": "markdown",
   "metadata": {},
   "source": [
    "**Number of flights by days of week and months:**"
   ]
  },
  {
   "cell_type": "code",
   "execution_count": 13,
   "metadata": {},
   "outputs": [
    {
     "data": {
      "text/html": [
       "<div>\n",
       "<style scoped>\n",
       "    .dataframe tbody tr th:only-of-type {\n",
       "        vertical-align: middle;\n",
       "    }\n",
       "\n",
       "    .dataframe tbody tr th {\n",
       "        vertical-align: top;\n",
       "    }\n",
       "\n",
       "    .dataframe thead th {\n",
       "        text-align: right;\n",
       "    }\n",
       "</style>\n",
       "<table border=\"1\" class=\"dataframe\">\n",
       "  <thead>\n",
       "    <tr style=\"text-align: right;\">\n",
       "      <th>DayOfWeek</th>\n",
       "      <th>1</th>\n",
       "      <th>2</th>\n",
       "      <th>3</th>\n",
       "      <th>4</th>\n",
       "      <th>5</th>\n",
       "      <th>6</th>\n",
       "      <th>7</th>\n",
       "    </tr>\n",
       "    <tr>\n",
       "      <th>Month</th>\n",
       "      <th></th>\n",
       "      <th></th>\n",
       "      <th></th>\n",
       "      <th></th>\n",
       "      <th></th>\n",
       "      <th></th>\n",
       "      <th></th>\n",
       "    </tr>\n",
       "  </thead>\n",
       "  <tbody>\n",
       "    <tr>\n",
       "      <th>1</th>\n",
       "      <td>80807</td>\n",
       "      <td>97298</td>\n",
       "      <td>100080</td>\n",
       "      <td>102043</td>\n",
       "      <td>81940</td>\n",
       "      <td>67178</td>\n",
       "      <td>76419</td>\n",
       "    </tr>\n",
       "    <tr>\n",
       "      <th>2</th>\n",
       "      <td>81504</td>\n",
       "      <td>79700</td>\n",
       "      <td>80587</td>\n",
       "      <td>82158</td>\n",
       "      <td>102726</td>\n",
       "      <td>66462</td>\n",
       "      <td>76099</td>\n",
       "    </tr>\n",
       "    <tr>\n",
       "      <th>3</th>\n",
       "      <td>103210</td>\n",
       "      <td>81159</td>\n",
       "      <td>82307</td>\n",
       "      <td>82831</td>\n",
       "      <td>82936</td>\n",
       "      <td>86153</td>\n",
       "      <td>97494</td>\n",
       "    </tr>\n",
       "    <tr>\n",
       "      <th>4</th>\n",
       "      <td>82463</td>\n",
       "      <td>100785</td>\n",
       "      <td>102586</td>\n",
       "      <td>82799</td>\n",
       "      <td>82964</td>\n",
       "      <td>68304</td>\n",
       "      <td>78225</td>\n",
       "    </tr>\n",
       "    <tr>\n",
       "      <th>5</th>\n",
       "      <td>80626</td>\n",
       "      <td>79884</td>\n",
       "      <td>81264</td>\n",
       "      <td>102572</td>\n",
       "      <td>102878</td>\n",
       "      <td>84493</td>\n",
       "      <td>74576</td>\n",
       "    </tr>\n",
       "    <tr>\n",
       "      <th>6</th>\n",
       "      <td>104168</td>\n",
       "      <td>82160</td>\n",
       "      <td>82902</td>\n",
       "      <td>83617</td>\n",
       "      <td>83930</td>\n",
       "      <td>72322</td>\n",
       "      <td>99566</td>\n",
       "    </tr>\n",
       "    <tr>\n",
       "      <th>7</th>\n",
       "      <td>84095</td>\n",
       "      <td>103429</td>\n",
       "      <td>103315</td>\n",
       "      <td>105035</td>\n",
       "      <td>79349</td>\n",
       "      <td>72219</td>\n",
       "      <td>80489</td>\n",
       "    </tr>\n",
       "    <tr>\n",
       "      <th>8</th>\n",
       "      <td>82983</td>\n",
       "      <td>80895</td>\n",
       "      <td>81773</td>\n",
       "      <td>82625</td>\n",
       "      <td>103878</td>\n",
       "      <td>86155</td>\n",
       "      <td>93970</td>\n",
       "    </tr>\n",
       "    <tr>\n",
       "      <th>9</th>\n",
       "      <td>94300</td>\n",
       "      <td>91533</td>\n",
       "      <td>74057</td>\n",
       "      <td>75589</td>\n",
       "      <td>75881</td>\n",
       "      <td>58343</td>\n",
       "      <td>71205</td>\n",
       "    </tr>\n",
       "    <tr>\n",
       "      <th>10</th>\n",
       "      <td>75131</td>\n",
       "      <td>72195</td>\n",
       "      <td>91900</td>\n",
       "      <td>94123</td>\n",
       "      <td>93894</td>\n",
       "      <td>58168</td>\n",
       "      <td>70794</td>\n",
       "    </tr>\n",
       "    <tr>\n",
       "      <th>11</th>\n",
       "      <td>74214</td>\n",
       "      <td>72443</td>\n",
       "      <td>73653</td>\n",
       "      <td>68071</td>\n",
       "      <td>70484</td>\n",
       "      <td>76031</td>\n",
       "      <td>88376</td>\n",
       "    </tr>\n",
       "    <tr>\n",
       "      <th>12</th>\n",
       "      <td>92700</td>\n",
       "      <td>90568</td>\n",
       "      <td>85241</td>\n",
       "      <td>70761</td>\n",
       "      <td>74306</td>\n",
       "      <td>61708</td>\n",
       "      <td>69674</td>\n",
       "    </tr>\n",
       "  </tbody>\n",
       "</table>\n",
       "</div>"
      ],
      "text/plain": [
       "DayOfWeek       1       2       3       4       5      6      7\n",
       "Month                                                          \n",
       "1           80807   97298  100080  102043   81940  67178  76419\n",
       "2           81504   79700   80587   82158  102726  66462  76099\n",
       "3          103210   81159   82307   82831   82936  86153  97494\n",
       "4           82463  100785  102586   82799   82964  68304  78225\n",
       "5           80626   79884   81264  102572  102878  84493  74576\n",
       "6          104168   82160   82902   83617   83930  72322  99566\n",
       "7           84095  103429  103315  105035   79349  72219  80489\n",
       "8           82983   80895   81773   82625  103878  86155  93970\n",
       "9           94300   91533   74057   75589   75881  58343  71205\n",
       "10          75131   72195   91900   94123   93894  58168  70794\n",
       "11          74214   72443   73653   68071   70484  76031  88376\n",
       "12          92700   90568   85241   70761   74306  61708  69674"
      ]
     },
     "execution_count": 13,
     "metadata": {},
     "output_type": "execute_result"
    }
   ],
   "source": [
    "pd.crosstab(flights_df.Month, flights_df.DayOfWeek)"
   ]
  },
  {
   "cell_type": "markdown",
   "metadata": {},
   "source": [
    "**It can also be handy to color such tables in order to easily notice outliers:**"
   ]
  },
  {
   "cell_type": "code",
   "execution_count": 14,
   "metadata": {},
   "outputs": [
    {
     "data": {
      "image/png": "iVBORw0KGgoAAAANSUhEUgAAAKQAAAD8CAYAAAD5aA/bAAAABHNCSVQICAgIfAhkiAAAAAlwSFlzAAALEgAACxIB0t1+/AAAADl0RVh0U29mdHdhcmUAbWF0cGxvdGxpYiB2ZXJzaW9uIDIuMi4zLCBodHRwOi8vbWF0cGxvdGxpYi5vcmcvIxREBQAACy1JREFUeJzt3VuIXeUZxvH/05kkmpM5qDHNjEYxKCKo6SC1ghdaqdY0SulFrIralFCKxyoSvZGWFnohYi+KJSSmAYNexJRalVo1xrYgaTKjbYzxEFJ1xlMSz1o0GXx7MdsyxshM5/uc/ep6fhBm9nbxrpfk8Vtr7732uxQRmGXxtXY3YDacA2mpOJCWigNpqTiQlooDaak4kJaKA2mpOJCWSud47mz27EOju3t+cZ19/+wtbwbYW6UKDFaqAzB74cIqdXr7PqpSp6vroCp1BgZ690TEYSNtN66B7O6ez4YNW4rrvDJbFbqBl6pUgV2V6gBc9vjjVepo0o4qda699oQqda67Ti+OZjsfsi0VB9JScSAtFQfSUikKpKRzJD0raYek5bWasuYacyAldQC/Bc4FTgAulFTnJZk1VskKeSqwIyJ2RsRe4G7g/DptWVOVBHIe0D/s8UDruU+RtEzSFklb3nhjd8HurAlKAnmgd6c/8wWdiFgRET0R0TN79ohv1FvDlQRyAOge9rgLeKWsHWu6kkBuBhZIOlrSRGAJcG+dtqypxvxZdkQMSroCeBDoAO6IiG3VOrNGKrq4IiIeAB6o1IuZP6mxXBxIS8WBtFTG9QLdzk6YMaO8zmvb6swj+sbsKmWYc/C7dQoBv5s0qVKlf1Sp8uGHVcqMmldIS8WBtFQcSEvFgbRUHEhLxYG0VBxIS8WBtFQcSEvFgbRUHEhLxYG0VBxIS8WBtFQcSEvFgbRUHEhLReN5N9gjpbi+Qp0ff1Cn58mDla70fv/9OnUABitNLH/44Spl/rV0aZU6J0FvRPSMtJ1XSEvFgbRUHEhLxYG0VBxIS6VkpHO3pEclbZe0TdLVNRuzZioZFDAIXBcRfZKmAb2SHoqIpyv1Zg005hUyIl6NiL7W7+8B2znASGez/0eVc0hJ84FTgE016llzFc/2kTQVuAe4JiI+89GHpGXAMoCZpTuzr7zSGydNYCiMayNi/YG2GT70fmrJzqwRSl5lC1gFbI+IW+u1ZE1WskKeDlwCnCnpydaf71bqyxqqZOj93znwvWrMxsyf1FgqDqSl4kBaKuM6Y/zwk07iqg0biuusn1Ln1HVPlSqw7OWXK1WqR0vPrVLn/vsrfaPgvNH9m3mFtFQcSEvFgbRUHEhLxYG0VBxIS8WBtFQcSEvFgbRUHEhLxYG0VBxIS8WBtFQcSEvFgbRUHEhLxYG0VBxIS2Vcv8KwLzp5fd+s4jonPlvnsvr586uUYcWket8GrjTynnjssSp1lt05t0qd0fIKaak4kJaKA2mpOJCWSnEgJXVIekLSfTUasmarsUJezdA4Z7NipQNLu4DzgJV12rGmK10hbwNuAD6u0ItZ0QTdRcCuiOgdYbtlkrZI2vLmm7vHujtriNIJuoslvQDczdAk3Tv332j4jPFZsw4r2J01Qcl9am6MiK6ImA8sATZExMXVOrNG8vuQlkqViysiYiOwsUYtazavkJaKA2mpOJCWigNpqSii0lDzUeiS4ooKdZa/806FKsDbb+eqAzBY55rxU3+ysEqdX26uczX8d6A3InpG2s4rpKXiQFoqDqSl4kBaKg6kpeJAWioOpKXiQFoqDqSl4kBaKg6kpeJAWioOpKXiQFoqDqSl4kBaKg6kpTKuM8aPOP54lq9ZU1zntkMOqdBNvf8b36xUB2Bxb50r+CtdeM6JL1f6RsG80V157hXSUnEgLRUH0lJxIC2V0gm6MyStk/SMpO2STqvVmDVT6avs3wB/jogfSJoITK7QkzXYmAMpaTpwBnAZQETsBfbWacuaquSQfQywG1jdui3ISklTKvVlDVUSyE5gIXB7RJwCfAAs33+j4TPGd9ccOWJfSSWBHAAGImJT6/E6hgL6KcNnjB82Y0bB7qwJSmaMvwb0Szqu9dRZwNNVurLGKn2VfSWwtvUKeydweXlL1mRFgYyIJ4ERR6yZjZY/qbFUHEhLxYG0VBxIS2VcrxhnwgQ44ojiMj96p85VzNOnVrqJ7Z49deoAt8ypM9O7b9WqKnU+nLe0Sp3R8gppqTiQlooDaak4kJaKA2mpOJCWigNpqTiQlooDaak4kJaKA2mpOJCWigNpqTiQlooDaak4kJaKA2mpjOsV4x9v3cr7Rx1VXGf6ggUVuoEf9jxXpc6xxx5epQ5A58/rXA2vpd+rUqe7u9KM8X7PGLcvIQfSUnEgLRUH0lJxIC2V0qH310raJukpSXdJOqhWY9ZMYw6kpHnAVUBPRJwIdABLajVmzVR6yO4EDpbUydAdGF4pb8marGSC7svALcBLwKvAOxHxl/23Gz5jvN7AEfuqKjlkzwTOB44Gvg5MkXTx/tsNnzF+6Nj7tIYoOWR/G/h3ROyOiH3AeuBbddqypioJ5EvANyVNliSGht5vr9OWNVXJOeQmhm4F0gdsbdVaUakva6jSofc3AzdX6sXMn9RYLg6kpeJAWiqKqHRF8CjMmdMTF120pbjOxo3lvQD07TmySp3/9PdXqQP1VoiDWVSlzsyZf6pS56231BsRI95kyyukpeJAWioOpKXiQFoqDqSl4kBaKg6kpeJAWioOpKXiQFoqDqSl4kBaKg6kpeJAWioOpKXiQFoqDqSl4kBaKuM69H5wEPZUGPDTWanr7/e8VKXOH/oHqtQBmDatq0qdXy2vUoabBn5apY5uH912XiEtFQfSUnEgLRUH0lIZMZCS7pC0S9JTw56bJekhSc+3fs78Ytu0phjNCvl74Jz9nlsOPBIRC4BHWo/Nio0YyIj4K/Dmfk+fD6xp/b4GuKByX9ZQYz2HnBMRrwK0fta7+6Q12hf+omb40PuPPtr9Re/OvuTGGsjXJc0FaP3c9XkbDh96P2nSYWPcnTXFWAN5L3Bp6/dLgT/WaceabjRv+9wFPA4cJ2lA0lLg18DZkp4Hzm49Nis24mUKEXHh5/ynsyr3YuZPaiwXB9JScSAtFQfSUhnXofc9HR2xZcqU8kInn1xeA+D666uUmXXZ4ip1AC6o9CHs6tW/qFOIGyvVmeih9/bl40BaKg6kpeJAWioOpKXiQFoqDqSl4kBaKg6kpeJAWioOpKXiQFoqDqSl4kBaKg6kpeJAWioOpKUyrleMS9oNvDjCZocCFSaRV+N+Rjaano6KiBFHl4xrIEdD0pbRXOo+XtzPyGr25EO2peJAWioZA7mi3Q3sx/2MrFpP6c4hrdkyrpDWYGkCKekcSc9K2iGp7UP0JXVLelTSdknbJF3d7p4AJHVIekLSfQl6mSFpnaRnWn9PpxXXzHDIltQBPMfQrMkBYDNwYUQ83cae5gJzI6JP0jSgF7ignT21+voZ0ANMj4hFbe5lDfC3iFgpaSIwOSLeLqmZZYU8FdgRETsjYi9wN0N3emibiHg1Ivpav78HbAfmtbMnSV3AecDKdvbR6mU6cAawCiAi9paGEfIEch7QP+zxAG3+xx9O0nzgFGBTezvhNuAG4OM29wFwDLAbWN06hVgpqXhwU5ZA6gDPtf9cApA0FbgHuCYi3m1jH4uAXRHR264e9tMJLARuj4hTgA+ocAOtLIEcALqHPe4CXmlTL/8jaQJDYVwbEevb3M7pwGJJLzB0SnOmpDvb2M8AMBARnxw11jEU0CJZArkZWCDp6NbJ8RKG7vTQNpLE0PnR9oi4tZ29AETEjRHRFRHzGfr72RARF7exn9eAfknHtZ46Cyh+wTfi0PvxEBGDkq4AHgQ6gDsiYlub2zoduATYKunJ1nM3RcQDbewpmyuBta1FZCdweWnBFG/7mH0iyyHbDHAgLRkH0lJxIC0VB9JScSAtFQfSUnEgLZX/AgZzuSHKcDmWAAAAAElFTkSuQmCC\n",
      "text/plain": [
       "<Figure size 432x288 with 1 Axes>"
      ]
     },
     "metadata": {
      "needs_background": "light"
     },
     "output_type": "display_data"
    }
   ],
   "source": [
    "plt.imshow(pd.crosstab(flights_df.Month, flights_df.DayOfWeek),\n",
    "           cmap='seismic', interpolation='none');"
   ]
  },
  {
   "cell_type": "markdown",
   "metadata": {},
   "source": [
    "**Flight distance histogram:**"
   ]
  },
  {
   "cell_type": "code",
   "execution_count": 15,
   "metadata": {
    "scrolled": true
   },
   "outputs": [
    {
     "data": {
      "image/png": "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\n",
      "text/plain": [
       "<Figure size 432x288 with 1 Axes>"
      ]
     },
     "metadata": {
      "needs_background": "light"
     },
     "output_type": "display_data"
    }
   ],
   "source": [
    "flights_df.hist('Distance', bins=20);"
   ]
  },
  {
   "cell_type": "markdown",
   "metadata": {},
   "source": [
    "**Making a histogram of flight frequency by date.**"
   ]
  },
  {
   "cell_type": "code",
   "execution_count": 13,
   "metadata": {},
   "outputs": [],
   "source": [
    "flights_df['Date'] = pd.to_datetime(flights_df.rename(columns={'DayofMonth': 'Day'})[['Year', 'Month', 'Day']])"
   ]
  },
  {
   "cell_type": "code",
   "execution_count": 14,
   "metadata": {},
   "outputs": [],
   "source": [
    "num_flights_by_date = flights_df.groupby('Date').size()"
   ]
  },
  {
   "cell_type": "code",
   "execution_count": 18,
   "metadata": {
    "scrolled": true
   },
   "outputs": [
    {
     "data": {
      "image/png": "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\n",
      "text/plain": [
       "<Figure size 432x288 with 1 Axes>"
      ]
     },
     "metadata": {
      "needs_background": "light"
     },
     "output_type": "display_data"
    }
   ],
   "source": [
    "num_flights_by_date.plot();"
   ]
  },
  {
   "cell_type": "markdown",
   "metadata": {},
   "source": [
    "**Do you see a weekly pattern above? And below?**"
   ]
  },
  {
   "cell_type": "code",
   "execution_count": 19,
   "metadata": {},
   "outputs": [
    {
     "data": {
      "image/png": "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\n",
      "text/plain": [
       "<Figure size 432x288 with 1 Axes>"
      ]
     },
     "metadata": {
      "needs_background": "light"
     },
     "output_type": "display_data"
    }
   ],
   "source": [
    "num_flights_by_date.rolling(window=7).mean().plot();"
   ]
  },
  {
   "cell_type": "markdown",
   "metadata": {},
   "source": [
    "**1. Find top-10 carriers in terms of the number of completed flights (_UniqueCarrier_ column)?**\n",
    "\n",
    "**Which of the listed below is _not_ in your top-10 list?**\n",
    "- DL\n",
    "- AA\n",
    "- OO\n",
    "- EV "
   ]
  },
  {
   "cell_type": "code",
   "execution_count": 12,
   "metadata": {
    "scrolled": true
   },
   "outputs": [
    {
     "data": {
      "text/plain": [
       "UniqueCarrier\n",
       "WN    1201754\n",
       "AA     604885\n",
       "OO     567159\n",
       "MQ     490693\n",
       "US     453589\n",
       "DL     451931\n",
       "UA     449515\n",
       "XE     374510\n",
       "NW     347652\n",
       "CO     298455\n",
       "dtype: int64"
      ]
     },
     "execution_count": 12,
     "metadata": {},
     "output_type": "execute_result"
    }
   ],
   "source": [
    "# You code here\n",
<<<<<<< HEAD
    "flights_df.groupby('UniqueCarrier').size().sort_values(ascending=False).head(10)\n",
    "# the answer is EV"
=======
    "flights_df['']"
>>>>>>> 4dfb32a8faa084ca954a84768b8f3877b2a7d156
   ]
  },
  {
   "cell_type": "markdown",
   "metadata": {},
   "source": [
    "**2. Plot distributions of flight cancellation reasons (_CancellationCode_).**\n",
    "\n",
    "**What is the most frequent reason for flight cancellation? (Use this [link](https://www.transtats.bts.gov/Fields.asp?Table_ID=236) to translate codes into reasons)**\n",
    "- carrier\n",
    "- weather conditions \n",
    "- National Air System\n",
    "- security reasons"
   ]
  },
  {
   "cell_type": "code",
   "execution_count": 20,
   "metadata": {},
   "outputs": [
    {
     "data": {
      "text/plain": [
       "<matplotlib.axes._subplots.AxesSubplot at 0x1b8e0b9ee48>"
      ]
     },
     "execution_count": 20,
     "metadata": {},
     "output_type": "execute_result"
    },
    {
     "data": {
      "image/png": "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\n",
      "text/plain": [
       "<Figure size 432x288 with 1 Axes>"
      ]
     },
     "metadata": {
      "needs_background": "light"
     },
     "output_type": "display_data"
    }
   ],
   "source": [
    "# You code here\n",
    "flights_df.groupby('CancellationCode').size().sort_values(ascending=False).plot(kind='Bar')\n",
    "# The answer is weather conditions"
   ]
  },
  {
   "cell_type": "markdown",
   "metadata": {},
   "source": [
    "**3. Which route is the most frequent, in terms of the number of flights?**\n",
    "\n",
    "(Take a look at _'Origin'_ and _'Dest'_ features. Consider _A->B_ and _B->A_ directions as _different_ routes) \n",
    "\n",
    " - New-York – Washington\n",
    " - San-Francisco – Los-Angeles \n",
    " - San-Jose – Dallas\n",
    " - New-York – San-Francisco"
   ]
  },
  {
   "cell_type": "code",
   "execution_count": 54,
   "metadata": {},
   "outputs": [
    {
     "data": {
      "text/plain": [
       "Origin  Dest\n",
       "SFO     LAX     13788\n",
       "dtype: int64"
      ]
     },
     "execution_count": 54,
     "metadata": {},
     "output_type": "execute_result"
    }
   ],
   "source": [
    "# You code here\n",
    "flights_df.groupby(['Origin','Dest' ]).size().sort_values(ascending=False).head(1)\n",
    "# the most frequent route is San-Francisco – Los-Angeles"
   ]
  },
  {
   "cell_type": "markdown",
   "metadata": {},
   "source": [
    "**4. Find top-5 delayed routes (count how many times they were delayed on departure). From all flights on these 5 routes, count all flights with weather conditions contributing to a delay.**\n",
    "\n",
    "- 449 \n",
    "- 539 \n",
    "- 549 \n",
    "- 668 "
   ]
  },
  {
   "cell_type": "code",
   "execution_count": 93,
   "metadata": {},
   "outputs": [
    {
     "data": {
      "text/plain": [
       "Origin  Dest\n",
       "SFO     LAX     13299\n",
       "LAX     SFO     12935\n",
       "OGG     HNL     12138\n",
       "HNL     OGG     11779\n",
       "LAX     LAS     11562\n",
       "dtype: int64"
      ]
     },
     "execution_count": 93,
     "metadata": {},
     "output_type": "execute_result"
    }
   ],
   "source": [
    "# You code here (有待修改)\n",
    "flights_df_delay = flights_df[['DepDelay','Origin','Dest']].dropna()\n",
    "flights_df_delay.groupby(['Origin','Dest']).size().sort_values(ascending=False).head()"
   ]
  },
  {
   "cell_type": "code",
   "execution_count": 107,
   "metadata": {},
   "outputs": [],
   "source": [
    "flight_df_delay_W = flights_df[['DepDelay','Origin','Dest', 'WeatherDelay']].dropna()\n",
    "flight_df_delay_W['Route'] = flight_df_delay_W['Origin']+ flight_df_delay_W['Dest']"
   ]
  },
  {
   "cell_type": "code",
   "execution_count": 112,
   "metadata": {},
   "outputs": [],
   "source": [
    "flight_df_delay_WT = flight_df_delay_W[(flight_df_delay_W['Route']=='SFOLAX') | (flight_df_delay_W['Route']=='LAXSFO') | (flight_df_delay_W['Route']=='OGGHNL') | (flight_df_delay_W['Route']=='HNLOGG') | (flight_df_delay_W['Route']=='LAXLAS')]"
   ]
  },
  {
   "cell_type": "code",
   "execution_count": 114,
   "metadata": {},
   "outputs": [
    {
     "data": {
      "text/plain": [
       "DepDelay        235\n",
       "Origin          235\n",
       "Dest            235\n",
       "WeatherDelay    235\n",
       "Route           235\n",
       "dtype: int64"
      ]
     },
     "execution_count": 114,
     "metadata": {},
     "output_type": "execute_result"
    }
   ],
   "source": [
    "flight_df_delay_WT[flight_df_delay_WT['WeatherDelay']!=0].count()"
   ]
  },
  {
   "cell_type": "markdown",
   "metadata": {},
   "source": [
    "**5. Examine the hourly distribution of departure times. For that, create a new series from DepTime, removing missing values.**\n",
    "\n",
    "**Choose all correct statements:**\n",
    " - Flights are normally distributed within time interval [0-23] (Search for: Normal distribution, bell curve).\n",
    " - Flights are uniformly distributed within time interval [0-23].\n",
    " - In the period from 0 am to 4 am there are considerably less flights than from 7 pm to 8 pm."
   ]
  },
  {
   "cell_type": "code",
   "execution_count": 122,
   "metadata": {},
   "outputs": [
    {
     "data": {
      "text/plain": [
       "<matplotlib.axes._subplots.AxesSubplot at 0x1b890a75080>"
      ]
     },
     "execution_count": 122,
     "metadata": {},
     "output_type": "execute_result"
    },
    {
     "data": {
      "image/png": "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\n",
      "text/plain": [
       "<Figure size 432x288 with 1 Axes>"
      ]
     },
     "metadata": {
      "needs_background": "light"
     },
     "output_type": "display_data"
    }
   ],
   "source": [
    "# You code here\n",
    "#(flights_df['DepTime']/60).hist(bins=8)\n",
    "sns.distplot(flights_df['DepTime'].dropna())"
   ]
  },
  {
   "cell_type": "markdown",
   "metadata": {},
   "source": [
    "**6. Show how the number of flights changes through time (on the daily/weekly/monthly basis) and interpret the findings.**\n",
    "\n",
    "**Choose all correct statements:**\n",
    "- The number of flights during weekends is less than during weekdays (working days).\n",
    "- The lowest number of flights is on Sunday.\n",
    "- There are less flights during winter than during summer.  "
   ]
  },
  {
   "cell_type": "code",
   "execution_count": 33,
   "metadata": {},
   "outputs": [
    {
     "data": {
      "text/plain": [
       "<matplotlib.axes._subplots.AxesSubplot at 0x1c190358>"
      ]
     },
     "execution_count": 33,
     "metadata": {},
     "output_type": "execute_result"
    },
    {
     "data": {
      "image/png": "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\n",
      "text/plain": [
       "<Figure size 432x288 with 1 Axes>"
      ]
     },
     "metadata": {
      "needs_background": "light"
     },
     "output_type": "display_data"
    }
   ],
   "source": [
    "# You code here\n",
    "sns.countplot(data=flights_df, x='DayOfWeek', color=sns.color_palette()[2])"
   ]
  },
  {
   "cell_type": "code",
   "execution_count": 31,
   "metadata": {},
   "outputs": [
    {
     "data": {
      "text/plain": [
       "<matplotlib.axes._subplots.AxesSubplot at 0x1b916b38>"
      ]
     },
     "execution_count": 31,
     "metadata": {},
     "output_type": "execute_result"
    },
    {
     "data": {
      "image/png": "iVBORw0KGgoAAAANSUhEUgAAAZsAAAEKCAYAAADEovgeAAAABHNCSVQICAgIfAhkiAAAAAlwSFlzAAALEgAACxIB0t1+/AAAADl0RVh0U29mdHdhcmUAbWF0cGxvdGxpYiB2ZXJzaW9uIDIuMi4zLCBodHRwOi8vbWF0cGxvdGxpYi5vcmcvIxREBQAAGABJREFUeJzt3X2wZHV95/H3R0YUVGSAgSUM7mAyZSSU8jCFsyFlEcjCQFyHWGJhaZggu7Nl0OAmlYhma/EhVmFlE4OphC1KRmZcV2TxgVkDjlMocR9EGAR5lGWCBG5AZmAQiVQg4Hf/6N9d22vfO3eG+7sNl/erqqv7fM/vnO/pebif26d/fTpVhSRJPb1o3AcgSVr4DBtJUneGjSSpO8NGktSdYSNJ6s6wkSR1Z9hIkrozbCRJ3Rk2kqTuFo37AJ4rDjjggFq2bNm4D0OSnlduvPHGh6tqyc7GGTbNsmXL2LJly7gPQ5KeV5L8/WzGeRpNktSdYSNJ6s6wkSR1Z9hIkrozbCRJ3Rk2kqTuDBtJUneGjSSpO8NGktSdVxCQnkeO+cMNXfZ745+e2WW/0iRf2UiSujNsJEndGTaSpO58z+YFptc5f/C8v6TpdQ2bJPsCnwKOAAp4F3AX8HlgGXAv8LaqejRJgAuBU4EngN+pqu+0/awB/mPb7Z9U1fpWPwa4FNgLuAo4t6oqyX6jevR8rtJC5IQEzZXer2wuBL5aVW9NsiewN/BB4JqquiDJecB5wPuBU4Dl7fYG4CLgDS04zgdWMAisG5NsbOFxEbAWuI5B2KwCrm77HNVDmlP+MJZmp1vYJNkHeCPwOwBV9RTwVJLVwPFt2HrgWgZBsBrYUFUFXJdk3yQHt7Gbq2pH2+9mYFWSa4F9qupbrb4BOI1B2EzXY1b8AfL85WlC6bmp5wSBVwPbgU8nuSnJp5K8DDioqh4EaPcHtvGHAPcPbT/RajPVJ0bUmaGHJGkMeobNIuBo4KKqOgr4MYPTWdPJiFrtRn3WkqxNsiXJlu3bt+/KppKkXdDzPZsJYKKqvt2Wr2AQNg8lObiqHmynybYNjT90aPulwAOtfvyU+rWtvnTEeGbo8TOq6mLgYoAVK1bsUlBpdjytJQk6vrKpqh8A9yd5TSudCNwBbATWtNoa4Mr2eCNwZgZWAo+1U2CbgJOSLE6yGDgJ2NTWPZ5kZZvJduaUfY3qIUkag96z0d4LfLbNRLsHOItBwF2e5GzgPuD0NvYqBtOetzKY+nwWQFXtSPJR4IY27iOTkwWAd/PTqc9XtxvABdP0kCSNQdewqaqbGUxZnurEEWMLOGea/awD1o2ob2HwGZ6p9UdG9ZAkjYeXq5EkdWfYSJK6M2wkSd0ZNpKk7gwbSVJ3fsXAc4DXYpO00PnKRpLUnWEjSerOsJEkded7NpJesHy/dP74ykaS1J1hI0nqzrCRJHXnezaStEA9l96TMmwkPWc8l344am55Gk2S1J1hI0nqzrCRJHVn2EiSujNsJEndORtNkubJC3m2na9sJEndGTaSpO4MG0lSd13DJsm9SW5NcnOSLa22X5LNSe5u94tbPUk+mWRrkluSHD20nzVt/N1J1gzVj2n739q2zUw9JEnjMR+vbH69qo6sqhVt+TzgmqpaDlzTlgFOAZa321rgIhgEB3A+8AbgWOD8ofC4qI2d3G7VTnpIksZgHKfRVgPr2+P1wGlD9Q01cB2wb5KDgZOBzVW1o6oeBTYDq9q6farqW1VVwIYp+xrVQ5I0Br3DpoCvJbkxydpWO6iqHgRo9we2+iHA/UPbTrTaTPWJEfWZekiSxqD352yOq6oHkhwIbE7yvRnGZkStdqM+ay0A1wK86lWv2pVNJUm7oOsrm6p6oN1vA77E4D2Xh9opMNr9tjZ8Ajh0aPOlwAM7qS8dUWeGHlOP7+KqWlFVK5YsWbK7T1OStBPdwibJy5K8YvIxcBJwG7ARmJxRtga4sj3eCJzZZqWtBB5rp8A2ASclWdwmBpwEbGrrHk+yss1CO3PKvkb1kCSNQc/TaAcBX2qzkRcB/62qvprkBuDyJGcD9wGnt/FXAacCW4EngLMAqmpHko8CN7RxH6mqHe3xu4FLgb2Aq9sN4IJpekiSxqBb2FTVPcDrR9QfAU4cUS/gnGn2tQ5YN6K+BThitj0kSePhFQQkSd0ZNpKk7gwbSVJ3ho0kqTvDRpLUnWEjSerOsJEkdWfYSJK6M2wkSd0ZNpKk7gwbSVJ3ho0kqTvDRpLUnWEjSerOsJEkdWfYSJK6M2wkSd0ZNpKk7gwbSVJ3ho0kqTvDRpLUnWEjSerOsJEkdWfYSJK66x42SfZIclOSr7Tlw5J8O8ndST6fZM9Wf0lb3trWLxvaxwda/a4kJw/VV7Xa1iTnDdVH9pAkjcd8vLI5F7hzaPnjwCeqajnwKHB2q58NPFpVvwR8oo0jyeHAGcCvAKuAv24BtgfwV8ApwOHA29vYmXpIksaga9gkWQr8JvCpthzgBOCKNmQ9cFp7vLot09af2MavBi6rqier6vvAVuDYdttaVfdU1VPAZcDqnfSQJI1B71c2fwH8EfCTtrw/8MOqerotTwCHtMeHAPcDtPWPtfH/vz5lm+nqM/WQJI1Bt7BJ8iZgW1XdOFweMbR2sm6u6qOOcW2SLUm2bN++fdQQSdIc6PnK5jjgzUnuZXCK6wQGr3T2TbKojVkKPNAeTwCHArT1rwR2DNenbDNd/eEZevyMqrq4qlZU1YolS5bs/jOVJM2oW9hU1QeqamlVLWPwBv/Xq+odwDeAt7Zha4Ar2+ONbZm2/utVVa1+RputdhiwHLgeuAFY3mae7dl6bGzbTNdDkjQG4/iczfuB30+ylcH7K5e0+iXA/q3++8B5AFV1O3A5cAfwVeCcqnqmvSfzHmATg9lul7exM/WQJI3Bop0Pefaq6lrg2vb4HgYzyaaO+Sfg9Gm2/xjwsRH1q4CrRtRH9pAkjYdXEJAkdWfYSJK6M2wkSd0ZNpKk7gwbSVJ3ho0kqbtZhU2Sa2ZTkyRplBk/Z5PkpcDewAFJFvPT647tA/xC52OTJC0QO/tQ578H3scgWG7kp2HzIwbfJSNJ0k7NGDZVdSFwYZL3VtVfztMxSZIWmFldrqaq/jLJrwLLhrepqg2djkuStIDMKmySfAb4ReBm4JlWLsCwkSTt1GwvxLkCOLxdvl+SpF0y28/Z3Ab8i54HIklauGb7yuYA4I4k1wNPThar6s1djkqStKDMNmw+1PMgJEkL22xno/1t7wORJC1cs52N9jiD2WcAewIvBn5cVfv0OjBJ0sIx21c2rxheTnIafu2yJGmWduuqz1X1ZeCEOT4WSdICNdvTaG8ZWnwRg8/d+JkbSdKszHY22r8Zevw0cC+wes6PRpK0IM32PZuzeh+IJGnhmu2Xpy1N8qUk25I8lOQLSZb2PjhJ0sIw2wkCnwY2Mvhem0OA/9Fq00ry0iTXJ/luktuTfLjVD0vy7SR3J/l8kj1b/SVteWtbv2xoXx9o9buSnDxUX9VqW5OcN1Qf2UOSNB6zDZslVfXpqnq63S4FluxkmyeBE6rq9cCRwKokK4GPA5+oquXAo8DZbfzZwKNV9UvAJ9o4khwOnAH8CrAK+OskeyTZg8EXuJ0CHA68vY1lhh6SpDGYbdg8nOSdkz/kk7wTeGSmDWrgH9vii9utGEyZvqLV1wOntcer2zJt/YlJ0uqXVdWTVfV9YCuDz/gcC2ytqnuq6ingMmB122a6HpKkMZht2LwLeBvwA+BB4K3ATicNtGC6GdgGbAb+DvhhVT3dhkwwOC1Hu78foK1/DNh/uD5lm+nq+8/QQ5I0BrMNm48Ca6pqSVUdyCB8PrSzjarqmao6EljK4JXIa0cNa/eZZt1c1X9OkrVJtiTZsn379lFDJElzYLZh87qqenRyoap2AEfNtklV/RC4FlgJ7Jtkcsr1UuCB9ngCOBSgrX8lsGO4PmWb6eoPz9Bj6nFdXFUrqmrFkiU7ewtKkrS7Zhs2L0qyeHIhyX7s5DM6SZYk2bc93gv4DeBO4BsMTsMBrAGubI83tmXa+q+3bwbdCJzRZqsdBiwHrgduAJa3mWd7MphEsLFtM10PSdIYzPYKAn8G/J8kVzA4JfU24GM72eZgYH2bNfYi4PKq+kqSO4DLkvwJcBNwSRt/CfCZJFsZvKI5A6Cqbk9yOXAHg6sXnFNVzwAkeQ+wCdgDWFdVt7d9vX+aHpKkMZjtFQQ2JNnCYJZXgLdU1R072eYWRpxqq6p7GHHF6Kr6J+D0afb1MUaEW1VdBVw12x6SpPGY7SsbWrjMGDCSJI2yW18xIEnSrjBsJEndGTaSpO4MG0lSd4aNJKk7w0aS1J1hI0nqzrCRJHVn2EiSujNsJEndGTaSpO4MG0lSd4aNJKk7w0aS1J1hI0nqzrCRJHVn2EiSujNsJEndGTaSpO4MG0lSd4aNJKk7w0aS1J1hI0nqrlvYJDk0yTeS3Jnk9iTntvp+STYnubvdL271JPlkkq1Jbkly9NC+1rTxdydZM1Q/JsmtbZtPJslMPSRJ49Hzlc3TwB9U1WuBlcA5SQ4HzgOuqarlwDVtGeAUYHm7rQUugkFwAOcDbwCOBc4fCo+L2tjJ7Va1+nQ9JElj0C1squrBqvpOe/w4cCdwCLAaWN+GrQdOa49XAxtq4Dpg3yQHAycDm6tqR1U9CmwGVrV1+1TVt6qqgA1T9jWqhyRpDOblPZsky4CjgG8DB1XVgzAIJODANuwQ4P6hzSZabab6xIg6M/SQJI1B97BJ8nLgC8D7qupHMw0dUavdqO/Ksa1NsiXJlu3bt+/KppKkXdA1bJK8mEHQfLaqvtjKD7VTYLT7ba0+ARw6tPlS4IGd1JeOqM/U42dU1cVVtaKqVixZsmT3nqQkaad6zkYLcAlwZ1X9+dCqjcDkjLI1wJVD9TPbrLSVwGPtFNgm4KQki9vEgJOATW3d40lWtl5nTtnXqB6SpDFY1HHfxwG/Ddya5OZW+yBwAXB5krOB+4DT27qrgFOBrcATwFkAVbUjyUeBG9q4j1TVjvb43cClwF7A1e3GDD0kSWPQLWyq6n8x+n0VgBNHjC/gnGn2tQ5YN6K+BThiRP2RUT0kSePhFQQkSd0ZNpKk7gwbSVJ3ho0kqTvDRpLUnWEjSerOsJEkdWfYSJK6M2wkSd0ZNpKk7gwbSVJ3ho0kqTvDRpLUnWEjSerOsJEkdWfYSJK6M2wkSd0ZNpKk7gwbSVJ3ho0kqTvDRpLUnWEjSerOsJEkdWfYSJK66xY2SdYl2ZbktqHafkk2J7m73S9u9ST5ZJKtSW5JcvTQNmva+LuTrBmqH5Pk1rbNJ5Nkph6SpPHp+crmUmDVlNp5wDVVtRy4pi0DnAIsb7e1wEUwCA7gfOANwLHA+UPhcVEbO7ndqp30kCSNSbewqapvAjumlFcD69vj9cBpQ/UNNXAdsG+Sg4GTgc1VtaOqHgU2A6vaun2q6ltVVcCGKfsa1UOSNCbz/Z7NQVX1IEC7P7DVDwHuHxo30Woz1SdG1GfqIUkak+fKBIGMqNVu1HetabI2yZYkW7Zv376rm0uSZmm+w+ahdgqMdr+t1SeAQ4fGLQUe2El96Yj6TD1+TlVdXFUrqmrFkiVLdvtJSZJmNt9hsxGYnFG2BrhyqH5mm5W2EnisnQLbBJyUZHGbGHASsKmtezzJyjYL7cwp+xrVQ5I0Jot67TjJ54DjgQOSTDCYVXYBcHmSs4H7gNPb8KuAU4GtwBPAWQBVtSPJR4Eb2riPVNXkpIN3M5jxthdwdbsxQw9J0ph0C5uqevs0q04cMbaAc6bZzzpg3Yj6FuCIEfVHRvWQJI3Pc2WCgCRpATNsJEndGTaSpO4MG0lSd4aNJKk7w0aS1J1hI0nqzrCRJHVn2EiSujNsJEndGTaSpO4MG0lSd4aNJKk7w0aS1J1hI0nqzrCRJHVn2EiSujNsJEndGTaSpO4MG0lSd4aNJKk7w0aS1J1hI0nqzrCRJHW3YMMmyaokdyXZmuS8cR+PJL2QLciwSbIH8FfAKcDhwNuTHD7eo5KkF64FGTbAscDWqrqnqp4CLgNWj/mYJOkFa6GGzSHA/UPLE60mSRqDVNW4j2HOJTkdOLmq/m1b/m3g2Kp675Rxa4G1bfE1wF270e4A4OFncbj2G08v+9nPfnPT719W1ZKdDVq0Gzt+PpgADh1aXgo8MHVQVV0MXPxsGiXZUlUrns0+7Df/vexnP/vNb7+FehrtBmB5ksOS7AmcAWwc8zFJ0gvWgnxlU1VPJ3kPsAnYA1hXVbeP+bAk6QVrQYYNQFVdBVw1D62e1Wk4+42tl/3sZ7957LcgJwhIkp5bFup7NpKk5xDDZjclWZdkW5Lb5qHXoUm+keTOJLcnObdzv5cmuT7Jd1u/D/fsN9R3jyQ3JfnKPPS6N8mtSW5OsmUe+u2b5Iok32t/j/+qY6/XtOc1eftRkvf16td6/of2b+W2JJ9L8tKOvc5tfW7v9bxG/f9Osl+SzUnubveLO/c7vT3HnySZs1li0/T60/Zv85YkX0qy71z1m2TY7L5LgVXz1Otp4A+q6rXASuCczpffeRI4oapeDxwJrEqysmO/SecCd85Dn0m/XlVHztP00guBr1bVLwOvp+PzrKq72vM6EjgGeAL4Uq9+SQ4Bfg9YUVVHMJiUc0anXkcA/47BVUJeD7wpyfIOrS7l5/9/nwdcU1XLgWvacs9+twFvAb45h32m67UZOKKqXgf8X+ADc9zTsNldVfVNYMc89Xqwqr7THj/O4AdVtysi1MA/tsUXt1vXN/eSLAV+E/hUzz7jkGQf4I3AJQBV9VRV/XCe2p8I/F1V/X3nPouAvZIsAvZmxOfa5shrgeuq6omqehr4W+C35rrJNP+/VwPr2+P1wGk9+1XVnVW1Ox80351eX2t/ngDXMfhs4pwybJ5nkiwDjgK+3bnPHkluBrYBm6uqaz/gL4A/An7Suc+kAr6W5MZ2JYmeXg1sBz7dThN+KsnLOvecdAbwuZ4NquofgP8M3Ac8CDxWVV/r1O424I1J9k+yN3AqP/sB7p4OqqoHYfALIHDgPPWdb+8Crp7rnRo2zyNJXg58AXhfVf2oZ6+qeqadhlkKHNtOX3SR5E3Atqq6sVePEY6rqqMZXBn8nCRv7NhrEXA0cFFVHQX8mLk9BTNS+0Dzm4H/3rnPYga/9R8G/ALwsiTv7NGrqu4EPs7gtM9Xge8yOM2sOZDkjxn8eX52rvdt2DxPJHkxg6D5bFV9cb76ttM919L3/anjgDcnuZfBFbpPSPJfO/ajqh5o99sYvJ9xbMd2E8DE0KvDKxiET2+nAN+pqoc69/kN4PtVtb2q/hn4IvCrvZpV1SVVdXRVvZHB6aC7e/Wa4qEkBwO0+23z1HdeJFkDvAl4R3X4TIxh8zyQJAzO999ZVX8+D/2WTM5GSbIXgx8m3+vVr6o+UFVLq2oZg9M+X6+qLr8ZAyR5WZJXTD4GTmJweqaLqvoBcH+S17TSicAdvfoNeTudT6E19wErk+zd/q2eSMcJEEkObPevYvAG+nw8Rxhc8mpNe7wGuHKe+naXZBXwfuDNVfVElyZV5W03bgz+gT8I/DOD31zP7tjr1xi8x3ALcHO7ndqx3+uAm1q/24D/NI9/rscDX+nc49UMTr98F7gd+ON5eF5HAlvan+mXgcWd++0NPAK8cp7+3j7M4BeS24DPAC/p2Ot/Mgjr7wIndurxc/+/gf0ZzEK7u93v17nfb7XHTwIPAZs69trK4GtZJn++/Je5/jP1CgKSpO48jSZJ6s6wkSR1Z9hIkrozbCRJ3Rk2kqTuDBtpniSpJJ8ZWl6UZPvuXuW6XUn6d4eWj5+PK2ZLu8OwkebPj4Ej2gdlAf418A/PYn/7Ar+701HSc4BhI82vqxlc3RqmfMK/fV/Kl9t3ilyX5HWt/qH2HSTXJrknye+1TS4AfrF9Z82fttrLh74357PtE/3S2Bk20vy6DDijfbnY6/jZq3d/GLipBt8p8kFgw9C6XwZOZnANt/PbtfLOY/D1AUdW1R+2cUcB7wMOZ3ClhON6PhlptgwbaR5V1S3AMgavaq6asvrXGFzqhar6OrB/kle2dX9TVU9W1cMMLgB50DQtrq+qiar6CYPLjiyb22cg7Z5F4z4A6QVoI4PvfzmewfW2Jo065TV5Paknh2rPMP3/3dmOk+aVr2yk+bcO+EhV3Tql/k3gHTCYWQY8XDN/b9HjwCu6HKE0x/ytR5pnVTUBXDhi1YcYfJvnLcAT/PRy9tPt55Ek/zvJbQwmHvzNXB+rNFe86rMkqTtPo0mSujNsJEndGTaSpO4MG0lSd4aNJKk7w0aS1J1hI0nqzrCRJHX3/wCixwmed2iRDwAAAABJRU5ErkJggg==\n",
      "text/plain": [
       "<Figure size 432x288 with 1 Axes>"
      ]
     },
     "metadata": {
      "needs_background": "light"
     },
     "output_type": "display_data"
    }
   ],
   "source": [
    "sns.countplot(data=flights_df, x='Month', color=sns.color_palette()[0])"
   ]
  },
  {
   "cell_type": "markdown",
   "metadata": {},
   "source": [
    "*The answer is first and third statement.*"
   ]
  },
  {
   "cell_type": "markdown",
   "metadata": {},
   "source": [
    "**7. Examine the distribution of cancellation reasons with time. Make a bar plot of cancellation reasons aggregated by months.**\n",
    "\n",
    "**Choose all correct statements:**\n",
    "- December has the highest rate of cancellations due to weather. \n",
    "- The highest rate of cancellations in September is due to Security reasons.\n",
    "- April's top cancellation reason is carriers.\n",
    "- Flights cancellations due to National Air System are more frequent than those due to carriers."
   ]
  },
  {
   "cell_type": "code",
   "execution_count": 30,
   "metadata": {},
   "outputs": [
    {
     "data": {
      "text/plain": [
       "<matplotlib.axes._subplots.AxesSubplot at 0x1b9475f8>"
      ]
     },
     "execution_count": 30,
     "metadata": {},
     "output_type": "execute_result"
    },
    {
     "data": {
      "image/png": "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\n",
      "text/plain": [
       "<Figure size 1080x360 with 1 Axes>"
      ]
     },
     "metadata": {
      "needs_background": "light"
     },
     "output_type": "display_data"
    }
   ],
   "source": [
    "# You code here\n",
    "plt.figure(figsize=(15,5))\n",
    "# flights_df.groupby(['Month', 'CancellationCode']).size().plot(kind='Bar')\n",
    "\n",
    "sns.countplot(data=flights_df, x='Month', hue='CancellationCode')"
   ]
  },
  {
   "cell_type": "markdown",
   "metadata": {},
   "source": [
    "*The answer is first and third statement.*"
   ]
  },
  {
   "cell_type": "markdown",
   "metadata": {},
   "source": [
    "**8. Which month has the greatest number of cancellations due to Carrier?** \n",
    "- May\n",
    "- January\n",
    "- September\n",
    "- April "
   ]
  },
  {
   "cell_type": "code",
   "execution_count": 37,
   "metadata": {},
   "outputs": [
    {
     "name": "stderr",
     "output_type": "stream",
     "text": [
      "c:\\python36\\lib\\site-packages\\pandas\\plotting\\_core.py:194: UserWarning: 'colors' is being deprecated. Please use 'color'instead of 'colors'\n",
      "  warnings.warn((\"'colors' is being deprecated. Please use 'color'\"\n"
     ]
    },
    {
     "data": {
      "text/plain": [
       "<matplotlib.axes._subplots.AxesSubplot at 0x1c7283c8>"
      ]
     },
     "execution_count": 37,
     "metadata": {},
     "output_type": "execute_result"
    },
    {
     "data": {
      "image/png": "iVBORw0KGgoAAAANSUhEUgAAAYAAAAENCAYAAAAG6bK5AAAABHNCSVQICAgIfAhkiAAAAAlwSFlzAAALEgAACxIB0t1+/AAAADl0RVh0U29mdHdhcmUAbWF0cGxvdGxpYiB2ZXJzaW9uIDIuMi4zLCBodHRwOi8vbWF0cGxvdGxpYi5vcmcvIxREBQAAFnFJREFUeJzt3X+wX3Wd3/HnSxDU1TVBLhQT1ri7WRU7gpgGWrYOKxoCtoZtZQo6kqW06Yx01W6na3T/yBbXFredumtbmWGW0OC4UMR1SRWFLMg6bgckSAQ02kRkSTYIV4PoSlcLvvvH95P1S7w393tzv/eG8Hk+Zu58z3mfzzmfc25u7uue36kqJEn9ec6hXgFJ0qFhAEhSpwwASeqUASBJnTIAJKlTBoAkdcoAkKROGQCS1CkDQJI6ZQBIUqeOPNQrcCDHHntsLVu27FCvhiQdVu6+++7vVNXETO2e0QGwbNkytm7deqhXQ5IOK0n+cpR2HgKSpE4ZAJLUKQNAkjplAEhSpwwASeqUASBJnTIAJKlTBoAkdeoZfSOYFs6y9Z85qPkevPzNY14TSQvFPQBJ6pQBIEmdMgAkqVMGgCR1asYASPKKJNuGvr6f5D1JjkmyJcmO9rm4tU+SjyTZmeTeJKcOLWtta78jydr53DBJ0oHNGABV9Y2qOqWqTgFeBzwBfApYD9xaVcuBW9s4wDnA8va1DrgCIMkxwAbgNGAlsGFfaEiSFt5sDwGdBXyzqv4SWANsavVNwHlteA1wTQ3cASxKcgJwNrClqvZW1WPAFmD1nLdAknRQZhsAFwDXtuHjq+phgPZ5XKsvAXYNzbO71aarS5IOgZEDIMlRwFuAT8zUdIpaHaC+fz/rkmxNsnVycnLU1ZMkzdJs9gDOAb5cVY+08UfaoR3a56Otvhs4cWi+pcCeA9SfpqqurKoVVbViYmLGV1pKkg7SbALgQn56+AdgM7DvSp61wI1D9Yva1UCnA4+3Q0Q3A6uSLG4nf1e1miTpEBjpWUBJXgC8CfhXQ+XLgeuTXAI8BJzf6jcB5wI7GVwxdDFAVe1N8gHgrtbusqraO+ctkCQdlJECoKqeAF6yX+27DK4K2r9tAZdOs5yNwMbZr6Ykady8E1iSOmUASFKnDABJ6pQBIEmdMgAkqVOH7SshfYWhJM2NewCS1CkDQJI6ZQBIUqcMAEnqlAEgSZ0yACSpUwaAJHXKAJCkThkAktQpA0CSOmUASFKnDABJ6pQBIEmdGikAkixKckOSryfZnuTvJzkmyZYkO9rn4tY2ST6SZGeSe5OcOrScta39jiRr52ujJEkzG3UP4A+Bz1XVK4GTge3AeuDWqloO3NrGAc4BlrevdcAVAEmOATYApwErgQ37QkOStPBmfB9Akp8HXg/8BkBV/Rj4cZI1wJmt2SbgduC9wBrgmqoq4I6293BCa7ulqva25W4BVgPXjm9z5o/vH5D0bDPKC2F+EZgErk5yMnA38G7g+Kp6GKCqHk5yXGu/BNg1NP/uVpuurikYOJLm2yiHgI4ETgWuqKrXAj/kp4d7ppIpanWA+tNnTtYl2Zpk6+Tk5AirJ0k6GKMEwG5gd1Xd2cZvYBAIj7RDO7TPR4fanzg0/1JgzwHqT1NVV1bViqpaMTExMZttkSTNwowBUFXfBnYleUUrnQV8DdgM7LuSZy1wYxveDFzUrgY6HXi8HSq6GViVZHE7+buq1SRJh8CoL4X/TeDjSY4CHgAuZhAe1ye5BHgIOL+1vQk4F9gJPNHaUlV7k3wAuKu1u2zfCWFJ0sIbKQCqahuwYopJZ03RtoBLp1nORmDjbFZQkjQ/vBNYkjplAEhSpwwASeqUASBJnTIAJKlTBoAkdcoAkKROGQCS1CkDQJI6ZQBIUqcMAEnqlAEgSZ0yACSpUwaAJHXKAJCkTo36QhhJs7Bs/WcOar4HL3/zmNdEmp57AJLUKQNAkjplAEhSpwwASerUSAGQ5MEk9yXZlmRrqx2TZEuSHe1zcasnyUeS7Exyb5JTh5aztrXfkWTt/GySJGkUs9kD+LWqOqWqVrTx9cCtVbUcuLWNA5wDLG9f64ArYBAYwAbgNGAlsGFfaEiSFt5cDgGtATa14U3AeUP1a2rgDmBRkhOAs4EtVbW3qh4DtgCr59C/JGkORg2AAm5JcneSda12fFU9DNA+j2v1JcCuoXl3t9p09adJsi7J1iRbJycnR98SSdKsjHoj2BlVtSfJccCWJF8/QNtMUasD1J9eqLoSuBJgxYoVPzNdkjQeI+0BVNWe9vko8CkGx/AfaYd2aJ+Ptua7gROHZl8K7DlAXZJ0CMwYAEl+LsmL9g0Dq4D7gc3Avit51gI3tuHNwEXtaqDTgcfbIaKbgVVJFreTv6taTZJ0CIxyCOh44FNJ9rX/46r6XJK7gOuTXAI8BJzf2t8EnAvsBJ4ALgaoqr1JPgDc1dpdVlV7x7YlkqRZmTEAquoB4OQp6t8FzpqiXsCl0yxrI7Bx9qspSc9Oh/LBgd4JLEmdMgAkqVMGgCR1ygCQpE4ZAJLUKQNAkjplAEhSpwwASeqUASBJnTIAJKlTBoAkdcoAkKROGQCS1CkDQJI6ZQBIUqcMAEnq1KgvhZcOa4fypRvSM5V7AJLUKQNAkjo1cgAkOSLJPUk+3cZfnuTOJDuS/M8kR7X60W18Z5u+bGgZ72v1byQ5e9wbI0ka3Wz2AN4NbB8a/xDw4apaDjwGXNLqlwCPVdUvAx9u7UhyEnAB8GpgNfDRJEfMbfUlSQdrpABIshR4M/BHbTzAG4AbWpNNwHlteE0bp00/q7VfA1xXVT+qqm8BO4GV49gISdLsjboH8AfAbwM/aeMvAb5XVU+28d3Akja8BNgF0KY/3tr/bX2KeSRJC2zGAEjyj4BHq+ru4fIUTWuGaQeaZ7i/dUm2Jtk6OTk50+pJkg7SKHsAZwBvSfIgcB2DQz9/ACxKsu8+gqXAnja8GzgRoE1/MbB3uD7FPH+rqq6sqhVVtWJiYmLWGyRJGs2MAVBV76uqpVW1jMFJ3Nuq6u3A54G3tmZrgRvb8OY2Tpt+W1VVq1/QrhJ6ObAc+NLYtkSSNCtzuRP4vcB1SX4PuAe4qtWvAj6WZCeDv/wvAKiqrya5Hvga8CRwaVU9NYf+JUlzMKsAqKrbgdvb8ANMcRVPVf0NcP40838Q+OBsV1LSgfmoCx0M7wSWpE4ZAJLUKQNAkjplAEhSpwwASeqUASBJnTIAJKlTBoAkdcoAkKROGQCS1CkDQJI6ZQBIUqcMAEnqlAEgSZ0yACSpUwaAJHXKAJCkThkAktQpA0CSOjXjO4GTPA/4AnB0a39DVW1I8nLgOuAY4MvAO6rqx0mOBq4BXgd8F/hnVfVgW9b7gEuAp4B3VdXN498kHQ58h6106I2yB/Aj4A1VdTJwCrA6yenAh4APV9Vy4DEGv9hpn49V1S8DH27tSHIScAHwamA18NEkR4xzYyRJo5sxAGrgr9voc9tXAW8Abmj1TcB5bXhNG6dNPytJWv26qvpRVX0L2AmsHMtWSJJmbaRzAEmOSLINeBTYAnwT+F5VPdma7AaWtOElwC6ANv1x4CXD9SnmkSQtsJECoKqeqqpTgKUM/mp/1VTN2memmTZd/WmSrEuyNcnWycnJUVZPknQQZnUVUFV9D7gdOB1YlGTfSeSlwJ42vBs4EaBNfzGwd7g+xTzDfVxZVSuqasXExMRsVk+SNAszBkCSiSSL2vDzgTcC24HPA29tzdYCN7bhzW2cNv22qqpWvyDJ0e0KouXAl8a1IZKk2ZnxMlDgBGBTu2LnOcD1VfXpJF8Drkvye8A9wFWt/VXAx5LsZPCX/wUAVfXVJNcDXwOeBC6tqqfGuzmSpFHNGABVdS/w2inqDzDFVTxV9TfA+dMs64PAB2e/mpKkcfNOYEnqlAEgSZ0yACSpUwaAJHXKAJCkThkAktQpA0CSOmUASFKnDABJ6tQoj4KQpG709LY69wAkqVMGgCR1ygCQpE4ZAJLUKQNAkjplAEhSp7wMVNKsHcylkofjZZLPdu4BSFKnDABJ6tSMAZDkxCSfT7I9yVeTvLvVj0myJcmO9rm41ZPkI0l2Jrk3yalDy1rb2u9Isnb+NkuSNJNR9gCeBP5tVb0KOB24NMlJwHrg1qpaDtzaxgHOAZa3r3XAFTAIDGADcBqDl8lv2BcakqSFN+NJ4Kp6GHi4Df8gyXZgCbAGOLM12wTcDry31a+pqgLuSLIoyQmt7Zaq2guQZAuwGrh2jNsj6Vmmp2fzLLRZnQNIsgx4LXAncHwLh30hcVxrtgTYNTTb7labri5JOgRGDoAkLwQ+Cbynqr5/oKZT1OoA9f37WZdka5Ktk5OTo66eJGmWRgqAJM9l8Mv/41X1J638SDu0Q/t8tNV3AycOzb4U2HOA+tNU1ZVVtaKqVkxMTMxmWyRJszDKVUABrgK2V9V/GZq0Gdh3Jc9a4Mah+kXtaqDTgcfbIaKbgVVJFreTv6taTZJ0CIxyJ/AZwDuA+5Jsa7X3A5cD1ye5BHgIOL9Nuwk4F9gJPAFcDFBVe5N8ALirtbts3wlhSdLCG+UqoC8y9fF7gLOmaF/ApdMsayOwcTYrKEmaH94JLEmdMgAkqVMGgCR1ygCQpE4ZAJLUKQNAkjplAEhSpwwASeqUASBJnTIAJKlTBoAkdcoAkKROGQCS1CkDQJI6ZQBIUqcMAEnqlAEgSZ0yACSpUwaAJHXKAJCkTs0YAEk2Jnk0yf1DtWOSbEmyo30ubvUk+UiSnUnuTXLq0DxrW/sdSdbOz+ZIkkY1yh7A/wBW71dbD9xaVcuBW9s4wDnA8va1DrgCBoEBbABOA1YCG/aFhiTp0JgxAKrqC8De/cprgE1teBNw3lD9mhq4A1iU5ATgbGBLVe2tqseALfxsqEiSFtDBngM4vqoeBmifx7X6EmDXULvdrTZdXZJ0iIz7JHCmqNUB6j+7gGRdkq1Jtk5OTo515SRJP3WwAfBIO7RD+3y01XcDJw61WwrsOUD9Z1TVlVW1oqpWTExMHOTqSZJmcrABsBnYdyXPWuDGofpF7Wqg04HH2yGim4FVSRa3k7+rWk2SdIgcOVODJNcCZwLHJtnN4Gqey4Hrk1wCPASc35rfBJwL7ASeAC4GqKq9ST4A3NXaXVZV+59YliQtoBkDoKounGbSWVO0LeDSaZazEdg4q7WTJM0b7wSWpE4ZAJLUKQNAkjplAEhSpwwASeqUASBJnTIAJKlTBoAkdcoAkKROGQCS1CkDQJI6ZQBIUqcMAEnqlAEgSZ0yACSpUwaAJHXKAJCkThkAktQpA0CSOrXgAZBkdZJvJNmZZP1C9y9JGljQAEhyBPDfgXOAk4ALk5y0kOsgSRpY6D2AlcDOqnqgqn4MXAesWeB1kCSx8AGwBNg1NL671SRJCyxVtXCdJecDZ1fVv2jj7wBWVtVvDrVZB6xro68AvnEQXR0LfGeOq2t/9md/z+y+7G96L6uqiZkaHXkQC56L3cCJQ+NLgT3DDarqSuDKuXSSZGtVrZjLMuzP/uzvmd2X/c3dQh8CugtYnuTlSY4CLgA2L/A6SJJY4D2Aqnoyyb8GbgaOADZW1VcXch0kSQMLfQiIqroJuGmeu5nTIST7sz/7Oyz6sr85WtCTwJKkZw4fBSFJnTIAJKlTBsBhIMnKJH+vDZ+U5LeSnLtAfV+zEP1o7pIcleSiJG9s429L8t+SXJrkuYd6/fTM4zmAg5DklQzuYL6zqv56qL66qj435r42MHh20pHAFuA04HbgjcDNVfXBMfa1/yW5AX4NuA2gqt4yrr4OsA6/yuCRIfdX1S3zsPzTgO1V9f0kzwfWA6cCXwP+Q1U9Psa+3gV8qqp2zdh4PP19nMHPyQuA7wEvBP4EOIvB//W189DnLwG/zuD+nieBHcC14/w+av48qwMgycVVdfWYl/ku4FJgO3AK8O6qurFN+3JVnTrm/u5r/RwNfBtYOvTL686qes0Y+/oyg1+EfwQUgwC4lsH9GlTVn4+rr6E+v1RVK9vwv2Twvf0UsAr4X1V1+Zj7+ypwcrsk+UrgCeAGBr8kT66qfzLGvh4Hfgh8k8H38RNVNTmu5U/R371V9ZokRwJ/Bby0qp5KEuAr4/xZaf29C/jHwJ8D5wLbgMcYBMI7q+r2cfaneVBVz9ov4KF5WOZ9wAvb8DJgK4MQALhnHvq7Z6rhNr5tzH09B/g3DPY0Tmm1B+b532h4++4CJtrwzwH3zUN/24eGvzzP38972vd0FXAVMAl8DlgLvGgetu1+4ChgMfAD4JhWf97wdo+xv/uAI9rwC4Db2/AvzNP/hRcDlwNfB77bvra32qJx9zfDunx2Hpb588B/BD4GvG2/aR+dj+1Y8PsAxi3JvdNNAo6fhy6PqHbYp6oeTHImcEOSl7U+x+3HSV5QVU8Ar9tXTPJi4Cfj7KiqfgJ8OMkn2ucjzP+9Is9JspjBL8pU+wu5qn6Y5Ml56O/+oT3DryRZUVVbk/wK8P/G3Fe17+ktwC3tOPw5wIXAfwZmfFbLLF3F4JfjEcDvAJ9I8gBwOoMn786HI4GnGOyhvgigqh6ap3MO1zM4HHlmVX0bIMnfYRConwDeNM7Okky3Nx8Ge+XjdjWDQ2ifBP55kn/KIAh+xODfcOwO+0NA7ZfU2Qx2PZ82CfjfVfXSMfd3G/BbVbVtqHYksBF4e1UdMeb+jm4/APvXjwVOqKr7xtnffn28GTijqt4/j308yCDIwuCw0z+oqm8neSHwxaoa63+0Fpx/CPxDBg/ZOpXBE2p3Ae+qqq+Msa97quq100x7flX933H1NbTclwJU1Z4kixicK3qoqr40D329G7gEuAN4PfChqro6yQTwyap6/Zj7+0ZVvWK20+bQ31MMDm9N9Yfd6VX1/DH3t2345z3J7zA4tPYWYEuN+fAyPDsC4Crg6qr64hTT/riq3jbm/pYCT+77C2S/aWdU1V+Ms79eJXkBcHxVfWuelv8i4BcZ/AW7u6oemYc+fqWq/s+4l/tMkuTVwKsYnLT/+jz3dQvwZ8Cmff9eSY4HfgN4U1W9ccz93Q/8elXtmGLarqo6cYrZ5tLfduDVba9xX20t8NsMDju/bJz9wbMgACT1oR0qXM/gJVLHtfIjDB4oeXlV7X8UYK79vZXBeaifeSR9kvOq6k/H3N/vA7dU1Z/tV18N/NeqWj7O/sAAkPQsMB9X/PXQnwEg6bCX5KGq+gX7m53D/iogSX1Y6Cv+nu39gQEg6fBxPAe44s/+Zs8AkHS4+DSDq2G27T8hye32N3ueA5CkTvk0UEnqlAEgSZ0yANS1JJXkY0PjRyaZTPLpg1zeoiTvHBo/82CXJc03A0C9+yHwd9vjtWHwQLG/msPyFgHvnLGV9AxgAEjwWeDNbfhCBs/uByDJMUn+NMm9Se5I8ppW/90kG5PcnuSB9mx8GDya+JeSbEvyn1rthUluSPL1JB9vz+eXDjkDQBo8KvmCJM8DXgPcOTTt3zN4tv1rgPcDw6/IfCWD67ZXAhvaI5DXA9+sqlOq6t+1dq8F3gOcxOABdGfM58ZIozIA1L2qupfBy30uBG7ab/KvMnhBB1V1G/CS9khpgM9U1Y+q6jvAo0x/t+aXqmp3e8rjttaXdMh5I5g0sJnBS1rOBF4yVJ/qcM2+m2eG39PwFNP/fxq1nbSg3AOQBjYCl03xgp0vAG+HwRU9wHeq6vsHWM4PaG/Gkp7p/EtEAqpqN4M3he3vd4Gr24O6nmDw+sEDLee7Sf6ivUzks8Bnxr2u0rj4KAhJ6pSHgCSpUwaAJHXKAJCkThkAktQpA0CSOmUASFKnDABJ6pQBIEmd+v9TecjwTeEDEwAAAABJRU5ErkJggg==\n",
      "text/plain": [
       "<Figure size 432x288 with 1 Axes>"
      ]
     },
     "metadata": {
      "needs_background": "light"
     },
     "output_type": "display_data"
    }
   ],
   "source": [
    "# You code here\n",
    "flights_df[flights_df['CancellationCode']=='A'].groupby('Month').size().plot(kind='bar', colors=sns.color_palette()[0])"
   ]
  },
  {
   "cell_type": "markdown",
   "metadata": {},
   "source": [
    "*The answer is fourth statement.*"
   ]
  },
  {
   "cell_type": "markdown",
   "metadata": {},
   "source": [
    "**9. Identify the carrier with the greatest number of cancellations due to carrier in the corresponding month from the previous question.**\n",
    "\n",
    "- 9E\n",
    "- EV\n",
    "- HA\n",
    "- AA"
   ]
  },
  {
   "cell_type": "code",
   "execution_count": 38,
   "metadata": {},
   "outputs": [
    {
     "name": "stderr",
     "output_type": "stream",
     "text": [
      "c:\\python36\\lib\\site-packages\\pandas\\plotting\\_core.py:194: UserWarning: 'colors' is being deprecated. Please use 'color'instead of 'colors'\n",
      "  warnings.warn((\"'colors' is being deprecated. Please use 'color'\"\n"
     ]
    },
    {
     "data": {
      "text/plain": [
       "<matplotlib.axes._subplots.AxesSubplot at 0x1c79cf28>"
      ]
     },
     "execution_count": 38,
     "metadata": {},
     "output_type": "execute_result"
    },
    {
     "data": {
      "image/png": "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\n",
      "text/plain": [
       "<Figure size 432x288 with 1 Axes>"
      ]
     },
     "metadata": {
      "needs_background": "light"
     },
     "output_type": "display_data"
    }
   ],
   "source": [
    "# You code here\n",
    "flights_df[(flights_df['CancellationCode']=='A') & (flights_df['Month']==4 )].groupby('UniqueCarrier').size().plot(kind='bar', colors=sns.color_palette()[0])"
   ]
  },
  {
   "cell_type": "code",
   "execution_count": 41,
   "metadata": {},
   "outputs": [
    {
     "data": {
      "text/plain": [
       "UniqueCarrier\n",
       "AA    3696\n",
       "dtype: int64"
      ]
     },
     "execution_count": 41,
     "metadata": {},
     "output_type": "execute_result"
    }
   ],
   "source": [
    "# You code here\n",
    "flights_df[(flights_df['CancellationCode']=='A') & (flights_df['Month']==4 )].groupby('UniqueCarrier').size().sort_values(ascending=False).head(1)"
   ]
  },
  {
   "cell_type": "markdown",
   "metadata": {},
   "source": [
    "*The answer is fourth statement.*"
   ]
  },
  {
   "cell_type": "markdown",
   "metadata": {},
   "source": [
    "**10. Examine median arrival and departure delays (in time) by carrier. Which carrier has the lowest median delay time for both arrivals and departures? Leave only non-negative values of delay times ('ArrDelay', 'DepDelay').\n",
    "[Boxplots](https://seaborn.pydata.org/generated/seaborn.boxplot.html) can be helpful in this exercise, as well as it might be a good idea to remove outliers in order to build nice graphs. You can exclude delay time values higher than a corresponding .95 percentile.**\n",
    "\n",
    "- EV\n",
    "- OO\n",
    "- AA\n",
    "- AQ "
   ]
  },
  {
   "cell_type": "code",
   "execution_count": 25,
   "metadata": {},
   "outputs": [],
   "source": [
    "# You code here\n",
    "sns.boxplot(data=flights_df, x='UniqueCarrier', hue='')"
   ]
  }
 ],
 "metadata": {
  "anaconda-cloud": {},
  "kernelspec": {
   "display_name": "Python 3",
   "language": "python",
   "name": "python3"
  },
  "language_info": {
   "codemirror_mode": {
    "name": "ipython",
    "version": 3
   },
   "file_extension": ".py",
   "mimetype": "text/x-python",
   "name": "python",
   "nbconvert_exporter": "python",
   "pygments_lexer": "ipython3",
   "version": "3.6.5"
  }
 },
 "nbformat": 4,
 "nbformat_minor": 1
}
